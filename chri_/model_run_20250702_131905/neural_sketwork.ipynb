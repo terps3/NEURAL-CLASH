{
 "cells": [
  {
   "cell_type": "markdown",
   "id": "2ca3f833-f872-4913-8315-474d3e74bf34",
   "metadata": {},
   "source": "### Imports"
  },
  {
   "cell_type": "code",
   "id": "006ac6ad-6406-428c-880f-4e2c627a5638",
   "metadata": {
    "ExecuteTime": {
     "end_time": "2025-07-02T11:10:31.497109Z",
     "start_time": "2025-07-02T11:10:31.489142Z"
    }
   },
   "source": [
    "import torch\n",
    "import torch.nn as nn\n",
    "import pandas as pd\n",
    "import numpy as np\n",
    "from sklearn.preprocessing import StandardScaler\n",
    "from sklearn.model_selection import train_test_split\n",
    "from sklearn.metrics import accuracy_score, confusion_matrix\n",
    "import seaborn as sns\n",
    "import matplotlib.pyplot as plt\n"
   ],
   "outputs": [],
   "execution_count": 23
  },
  {
   "cell_type": "markdown",
   "id": "b061dbce-a947-45d4-b16e-15e610fad549",
   "metadata": {},
   "source": "## Macros"
  },
  {
   "cell_type": "code",
   "id": "8eaaa71b-dc66-47e4-89c6-3ba7a0b7b8aa",
   "metadata": {
    "ExecuteTime": {
     "end_time": "2025-07-02T11:10:31.524731Z",
     "start_time": "2025-07-02T11:10:31.519416Z"
    }
   },
   "source": [
    "datapath = \"processed_deck_data.csv\"\n",
    "hidden_layers = (40, 30, 20) # hidden layers\n",
    "input_size = 0\n",
    "num_epochs = 502 # number of epochs to train"
   ],
   "outputs": [],
   "execution_count": 24
  },
  {
   "cell_type": "markdown",
   "id": "c16566e4-6a1c-4ecf-886f-ce8ceb9ddc9f",
   "metadata": {},
   "source": [
    "# Get Data\n",
    "### already preprocessed, must be all numeric"
   ]
  },
  {
   "cell_type": "code",
   "id": "2fbd8c8c-0a02-4830-9720-500d513c5b4b",
   "metadata": {
    "ExecuteTime": {
     "end_time": "2025-07-02T11:10:35.520720Z",
     "start_time": "2025-07-02T11:10:31.550858Z"
    }
   },
   "source": [
    "df = pd.read_csv(datapath)\n",
    "\n",
    "# last column is the label\n",
    "X = df.iloc[:, :-1].values  # features\n",
    "\n",
    "# Standardize the features\n",
    "scaler = StandardScaler()\n",
    "X = scaler.fit_transform(X)  # fit and transform the features\n",
    "\n",
    "Y = df.iloc[:, -1].values   # labels\n",
    "\n",
    "X_train_np, X_test_np, Y_train_np, Y_test_np = train_test_split(X, Y)\n",
    "\n",
    "# Convert to torch tensors\n",
    "X_train = torch.tensor(X_train_np).float() # dtype=torch.float32\n",
    "Y_train = torch.tensor(Y_train_np).float()\n",
    "X_test = torch.tensor(X_test_np).float()\n",
    "Y_test = torch.tensor(Y_test_np).float()\n",
    "\n",
    "# determine size of input space\n",
    "input_size = X_train.shape[1]"
   ],
   "outputs": [],
   "execution_count": 25
  },
  {
   "cell_type": "code",
   "id": "0778c141-100a-49ba-9da7-cff1277898e5",
   "metadata": {
    "ExecuteTime": {
     "end_time": "2025-07-02T11:10:35.549308Z",
     "start_time": "2025-07-02T11:10:35.540792Z"
    }
   },
   "source": "np.average(Y)",
   "outputs": [
    {
     "data": {
      "text/plain": [
       "np.float64(0.4938918593659632)"
      ]
     },
     "execution_count": 26,
     "metadata": {},
     "output_type": "execute_result"
    }
   ],
   "execution_count": 26
  },
  {
   "cell_type": "markdown",
   "id": "f5281ec9-4d70-41d5-afbc-ff0277d12c1b",
   "metadata": {},
   "source": [
    "# Build Neural Network"
   ]
  },
  {
   "cell_type": "code",
   "id": "c5c7389a-e1aa-4f74-83af-3ee334aa9d35",
   "metadata": {
    "ExecuteTime": {
     "end_time": "2025-07-02T11:10:35.585810Z",
     "start_time": "2025-07-02T11:10:35.578095Z"
    }
   },
   "source": [
    "layers = list()\n",
    "\n",
    "if len(hidden_layers) == 0:\n",
    "    layers.append(nn.Linear(input_size, 1))\n",
    "    layers.append(nn.Sigmoid())\n",
    "else:\n",
    "    layers.append(nn.Linear(input_size, hidden_layers[0]))\n",
    "    layers.append(nn.Sigmoid())\n",
    "\n",
    "    for i in range(1, len(hidden_layers)):\n",
    "        layers.append(nn.Linear(hidden_layers[i-1], hidden_layers[i]))\n",
    "        layers.append(nn.Sigmoid())\n",
    "\n",
    "    layers.append(nn.Linear(hidden_layers[-1], 1))\n",
    "    layers.append(nn.Sigmoid())\n",
    "\n",
    "model = nn.Sequential(*layers)\n",
    "\n",
    "# prepare for training\n",
    "loss_fn = nn.BCELoss()\n",
    "optimizer = torch.optim.Adam(model.parameters(), lr=0.0001)"
   ],
   "outputs": [],
   "execution_count": 27
  },
  {
   "cell_type": "markdown",
   "id": "3c891c59-2932-4c8f-b615-6de8ab131b7a",
   "metadata": {},
   "source": [
    "# Define Train Loop"
   ]
  },
  {
   "cell_type": "code",
   "id": "6433e4e7-c27b-4f6c-94c4-0f381c7d867c",
   "metadata": {
    "jupyter": {
     "is_executing": true
    },
    "ExecuteTime": {
     "start_time": "2025-07-02T11:10:35.607750Z"
    }
   },
   "source": [
    "# Create empty loss lists to track values\n",
    "train_loss_values = []\n",
    "test_loss_values = []\n",
    "epoch_count = []\n",
    "\n",
    "for epoch in range(num_epochs):\n",
    "    model.train()\n",
    "    \n",
    "    # Forward pass\n",
    "    Y_pred = model(X_train).flatten()\n",
    "    loss = loss_fn(Y_pred, Y_train)\n",
    "\n",
    "    # Backward pass and optimization\n",
    "    optimizer.zero_grad()\n",
    "    loss.backward()\n",
    "    optimizer.step()\n",
    "\n",
    "    # Print loss every 100 epochs\n",
    "    if epoch % 100 == 0:\n",
    "        with torch.inference_mode():\n",
    "            # Test the model\n",
    "            Y_test_pred = model(X_test).flatten()\n",
    "            test_loss = loss_fn(Y_test_pred, Y_test)\n",
    "\n",
    "            epoch_count.append(epoch)\n",
    "            train_loss_values.append(loss.detach().numpy())\n",
    "            test_loss_values.append(test_loss.detach().numpy())\n",
    "            print(f'Epoch [{epoch+1}/{num_epochs}], Loss: {loss.item():.2f}')\n",
    "            print(\"Y_pred:\", Y_pred)"
   ],
   "outputs": [
    {
     "name": "stdout",
     "output_type": "stream",
     "text": [
      "Epoch [1/502], Loss: 0.70\n",
      "Y_pred: tensor([0.4505, 0.4504, 0.4504,  ..., 0.4504, 0.4504, 0.4504],\n",
      "       grad_fn=<ViewBackward0>)\n",
      "Epoch [101/502], Loss: 0.69\n",
      "Y_pred: tensor([0.4891, 0.4888, 0.4887,  ..., 0.4891, 0.4892, 0.4893],\n",
      "       grad_fn=<ViewBackward0>)\n"
     ]
    }
   ],
   "execution_count": null
  },
  {
   "metadata": {
    "ExecuteTime": {
     "end_time": "2025-07-02T10:45:48.712185Z",
     "start_time": "2025-07-02T10:45:48.706372Z"
    }
   },
   "cell_type": "code",
   "source": "",
   "id": "71442ea2d0213f00",
   "outputs": [],
   "execution_count": null
  },
  {
   "cell_type": "code",
   "id": "3acd9c80-cc5e-4b40-bfc1-63293652fa97",
   "metadata": {
    "ExecuteTime": {
     "end_time": "2025-07-02T10:45:49.829472Z",
     "start_time": "2025-07-02T10:45:49.686969Z"
    }
   },
   "source": [
    "print(\"Y_pred:\")\n",
    "print(model(X_test).flatten())\n",
    "print(\"Y_test:\")\n",
    "print(Y_test)\n"
   ],
   "outputs": [
    {
     "name": "stdout",
     "output_type": "stream",
     "text": [
      "Y_pred:\n",
      "tensor([0.4945, 0.4921, 0.4928,  ..., 0.4942, 0.4945, 0.4939],\n",
      "       grad_fn=<ViewBackward0>)\n",
      "Y_test:\n",
      "tensor([1., 1., 0.,  ..., 1., 1., 0.])\n"
     ]
    }
   ],
   "execution_count": 19
  },
  {
   "metadata": {},
   "cell_type": "markdown",
   "source": "# Save Model & Data",
   "id": "db577546a747f9b5"
  },
  {
   "metadata": {
    "ExecuteTime": {
     "end_time": "2025-07-02T10:49:14.211793Z",
     "start_time": "2025-07-02T10:49:14.202570Z"
    }
   },
   "cell_type": "code",
   "source": [
    "import os\n",
    "os.listdir(os.getcwd())"
   ],
   "id": "50e4a97de041dfa3",
   "outputs": [
    {
     "data": {
      "text/plain": [
       "['BattlesStaging_01012021_WL_tagged_new.csv',\n",
       " 'clash_royale_mapped_cards.py',\n",
       " 'clash_royale_mapped_cards_new.py',\n",
       " 'data_modified1.csv',\n",
       " 'model_run_20250702_124556',\n",
       " 'neural_sketwork.ipynb',\n",
       " 'processed_deck_data.csv']"
      ]
     },
     "execution_count": 22,
     "metadata": {},
     "output_type": "execute_result"
    }
   ],
   "execution_count": 22
  },
  {
   "metadata": {
    "ExecuteTime": {
     "end_time": "2025-07-02T10:46:09.842438Z",
     "start_time": "2025-07-02T10:45:56.382492Z"
    }
   },
   "cell_type": "code",
   "source": [
    "import os\n",
    "from datetime import datetime\n",
    "import json\n",
    "import shutil\n",
    "\n",
    "def save_model_run(model, datapath, hidden_layers, input_size, num_epochs,\n",
    "                  train_loss_values, test_loss_values, epoch_count):\n",
    "    # Create a timestamped folder\n",
    "    timestamp = datetime.now().strftime(\"%Y%m%d_%H%M%S\")\n",
    "    folder_name = f\"model_run_{timestamp}\"\n",
    "    os.makedirs(folder_name, exist_ok=True)\n",
    "\n",
    "    # Save model weights\n",
    "    model_path = os.path.join(folder_name, \"model_weights.pth\")\n",
    "    torch.save(model.state_dict(), model_path)\n",
    "\n",
    "    # Save configuration details\n",
    "    config = {\n",
    "        \"datapath\": datapath,\n",
    "        \"hidden_layers\": hidden_layers,\n",
    "        \"input_size\": input_size,\n",
    "        \"num_epochs\": num_epochs,\n",
    "        \"timestamp\": timestamp,\n",
    "        \"learning_rate\": optimizer.param_groups[0]['lr']\n",
    "    }\n",
    "\n",
    "    with open(os.path.join(folder_name, \"config.json\"), 'w') as f:\n",
    "        json.dump(config, f, indent=4)\n",
    "\n",
    "    # Save loss values\n",
    "    loss_data = {\n",
    "        \"epochs\": epoch_count,\n",
    "        \"train_loss\": train_loss_values,\n",
    "        \"test_loss\": test_loss_values\n",
    "    }\n",
    "    np.savez(os.path.join(folder_name, \"loss_data.npz\"), **loss_data)\n",
    "\n",
    "    # Save plots\n",
    "    # Loss curve\n",
    "    plt.figure(figsize=(10, 6))\n",
    "    plt.plot(epoch_count, train_loss_values, label=\"Train loss\")\n",
    "    plt.plot(epoch_count, test_loss_values, label=\"Test loss\")\n",
    "    plt.title(\"Training and test loss curves\")\n",
    "    plt.ylabel(\"Loss\")\n",
    "    plt.xlabel(\"Epochs\")\n",
    "    plt.legend()\n",
    "    plt.savefig(os.path.join(folder_name, \"loss_curves.png\"))\n",
    "    plt.close()\n",
    "\n",
    "    # Calculate and save confusion matrix\n",
    "    model.eval()\n",
    "    with torch.no_grad():\n",
    "        Y_test_pred = model(X_test).flatten()\n",
    "        predicted_classes = (Y_test_pred >= 0.5).float()\n",
    "        cm = confusion_matrix(Y_test.numpy(), predicted_classes.numpy())\n",
    "        accuracy = accuracy_score(Y_test.numpy(), predicted_classes.numpy())\n",
    "\n",
    "    plt.figure(figsize=(8, 6))\n",
    "    sns.heatmap(cm, annot=True, fmt='d', cmap='Blues',\n",
    "                xticklabels=['Loss', 'Win'],\n",
    "                yticklabels=['Loss', 'Win'])\n",
    "    plt.xlabel('Predicted')\n",
    "    plt.ylabel('Actual')\n",
    "    plt.title(f'Confusion Matrix (Accuracy: {accuracy:.4f})')\n",
    "    plt.savefig(os.path.join(folder_name, \"confusion_matrix.png\"))\n",
    "    plt.close()\n",
    "\n",
    "    # Calculate and save feature importance\n",
    "    importance = compute_feature_importance_simple(model, X_test_np)\n",
    "    feature_names = df.columns[:-1]\n",
    "\n",
    "    plt.figure(figsize=(12, 8))\n",
    "    importance_sorted_idx = np.argsort(importance)\n",
    "    plt.barh(range(len(importance)), importance[importance_sorted_idx])\n",
    "    plt.yticks(range(len(importance)), [feature_names[i] for i in importance_sorted_idx])\n",
    "    plt.title('Feature Importance')\n",
    "    plt.xlabel('Mean Absolute Difference in Predictions')\n",
    "    plt.tight_layout()\n",
    "    plt.savefig(os.path.join(folder_name, \"feature_importance.png\"))\n",
    "    plt.close()\n",
    "\n",
    "    # Copy notebook to the folder if it exists\n",
    "    try:\n",
    "        shutil.copy(\"neural_sketwork.ipynb\", os.path.join(folder_name, \"neural_sketwork.ipynb\"))\n",
    "    except:\n",
    "        pass\n",
    "\n",
    "    print(f\"Model and related information saved to folder: {folder_name}\")\n",
    "    return folder_name\n",
    "\n",
    "# Call the function after training\n",
    "save_folder = save_model_run(model, datapath, hidden_layers, input_size, num_epochs,\n",
    "                           train_loss_values, test_loss_values, epoch_count)"
   ],
   "id": "42f45238f0ee0a45",
   "outputs": [
    {
     "name": "stdout",
     "output_type": "stream",
     "text": [
      "Model and related information saved to folder: model_run_20250702_124556\n"
     ]
    }
   ],
   "execution_count": 20
  },
  {
   "metadata": {},
   "cell_type": "markdown",
   "source": "# Make Predictions",
   "id": "ba500e66575b6c98"
  },
  {
   "cell_type": "code",
   "id": "bf5e3f73-b8f1-45c0-bd81-77e1bf120d72",
   "metadata": {
    "ExecuteTime": {
     "end_time": "2025-07-02T10:25:18.214190Z",
     "start_time": "2025-07-02T10:25:18.137963Z"
    }
   },
   "source": [
    "model.eval()\n",
    "with torch.inference_mode():\n",
    "\n",
    "    # Find our model's learned parameters\n",
    "    from pprint import pprint # pprint = pretty print, see: https://docs.python.org/3/library/pprint.html\n",
    "    print(\"The model learned the following values for weights and bias:\")\n",
    "    pprint(model.state_dict())\n",
    "    print(\"\\nAnd the original values for weights and bias are:\")\n",
    "    pprint(f\"weights: {layers[-2]}\")"
   ],
   "outputs": [
    {
     "name": "stdout",
     "output_type": "stream",
     "text": [
      "The model learned the following values for weights and bias:\n",
      "OrderedDict([('0.weight',\n",
      "              tensor([[-0.0162,  0.0815, -0.1615,  0.0341,  0.0932, -0.0229,  0.0480,  0.0972,\n",
      "         -0.1446, -0.0575, -0.0841,  0.0346, -0.2351,  0.2559, -0.1422, -0.0012],\n",
      "        [ 0.1403, -0.0585,  0.2733, -0.1654, -0.2018, -0.2413,  0.1372,  0.1370,\n",
      "          0.1616,  0.2125, -0.1812, -0.0298, -0.0115, -0.0619,  0.0292,  0.1992],\n",
      "        [-0.0272, -0.0486,  0.1491, -0.0857, -0.1276,  0.1791,  0.0219,  0.1756,\n",
      "         -0.1362, -0.2796, -0.1851, -0.1412,  0.1970, -0.0056,  0.2991,  0.0487],\n",
      "        [-0.2362, -0.0089,  0.0946, -0.2415,  0.2949,  0.2913,  0.0863,  0.1165,\n",
      "         -0.1277,  0.0964, -0.2130,  0.1587, -0.1578, -0.0888,  0.1734,  0.1937],\n",
      "        [-0.0038, -0.0489,  0.2070,  0.1649, -0.2225, -0.1410,  0.0380, -0.0107,\n",
      "         -0.1167,  0.1376, -0.2204,  0.0436, -0.0129,  0.1275, -0.0634, -0.0224],\n",
      "        [-0.0319, -0.0734,  0.0423, -0.1152, -0.0750, -0.2110, -0.0521,  0.1970,\n",
      "         -0.0122,  0.0255,  0.1112,  0.2836, -0.0435, -0.1995, -0.2563,  0.1348],\n",
      "        [-0.1557, -0.1977, -0.0302, -0.2488, -0.0205,  0.1423, -0.1097,  0.1999,\n",
      "          0.2659, -0.1987,  0.1020, -0.0648, -0.1265, -0.1895,  0.2261, -0.1774],\n",
      "        [ 0.1956, -0.0570, -0.1454,  0.1906, -0.0113,  0.1480, -0.0520,  0.0074,\n",
      "          0.2466,  0.1121,  0.1198,  0.0034,  0.0557, -0.1201, -0.1559,  0.0211],\n",
      "        [ 0.1666, -0.1581,  0.1547,  0.2179, -0.0272,  0.0654, -0.0113,  0.0937,\n",
      "          0.2452,  0.1929,  0.2047,  0.0995,  0.0794, -0.2596, -0.2177, -0.0629],\n",
      "        [-0.1540, -0.1383,  0.0677, -0.0561,  0.1249,  0.0093, -0.0867, -0.0477,\n",
      "         -0.1344,  0.2212,  0.2074,  0.1741,  0.1110,  0.1995, -0.1786,  0.2154],\n",
      "        [ 0.0710,  0.1469,  0.2703,  0.1509,  0.2245, -0.2228, -0.2255,  0.0023,\n",
      "          0.0752, -0.0297,  0.2458,  0.0273, -0.0725, -0.0503,  0.0907,  0.1095],\n",
      "        [-0.0557,  0.1090,  0.0525,  0.2956,  0.1317, -0.0465, -0.0663, -0.0131,\n",
      "          0.1123,  0.0053,  0.2487,  0.1274, -0.1789, -0.0660,  0.0376,  0.2390],\n",
      "        [ 0.1866, -0.1517, -0.0806, -0.0986, -0.0965, -0.1865, -0.1670,  0.1404,\n",
      "          0.2815, -0.0920,  0.2627, -0.1127,  0.2634,  0.1879, -0.0614,  0.1005],\n",
      "        [-0.2473,  0.1441, -0.2594, -0.0887,  0.2072,  0.2118,  0.1898,  0.0635,\n",
      "         -0.1768,  0.0578, -0.0456, -0.1327,  0.0059, -0.0706,  0.0067, -0.0727],\n",
      "        [ 0.2084,  0.1898, -0.2321,  0.0368,  0.1405, -0.1717, -0.0383,  0.1154,\n",
      "          0.2805, -0.2269,  0.1283,  0.0145,  0.2231, -0.1464,  0.0075,  0.1266],\n",
      "        [ 0.1990, -0.2482, -0.0809, -0.0473, -0.1888, -0.0125,  0.0194, -0.1823,\n",
      "         -0.0141,  0.0351, -0.2052, -0.0241,  0.2412,  0.1423, -0.0506, -0.2335],\n",
      "        [ 0.2032,  0.0631, -0.1290, -0.0031, -0.1887,  0.0915, -0.0156,  0.1707,\n",
      "          0.1070, -0.0033, -0.0244, -0.1912,  0.0408, -0.1658, -0.0172, -0.0440],\n",
      "        [ 0.0377, -0.1366,  0.0159, -0.1869,  0.2311,  0.0340,  0.0822,  0.1607,\n",
      "          0.0204, -0.2492, -0.0618,  0.1367,  0.1279, -0.0343,  0.1961, -0.0585],\n",
      "        [ 0.2178, -0.1185,  0.1893, -0.2923, -0.0163, -0.1488, -0.0830,  0.2054,\n",
      "          0.0083, -0.1174,  0.1926,  0.1821,  0.2955,  0.0821, -0.1254,  0.0029],\n",
      "        [-0.1805, -0.2169,  0.1573, -0.1836, -0.0443,  0.1350,  0.0214,  0.0596,\n",
      "         -0.0622,  0.1297,  0.1030, -0.1138, -0.0549, -0.0872,  0.2156,  0.0862],\n",
      "        [ 0.0415, -0.2631, -0.1129, -0.2181,  0.1250,  0.1257, -0.0902, -0.1332,\n",
      "         -0.1393,  0.0767, -0.0168,  0.0730,  0.0163, -0.0049, -0.0655, -0.2810],\n",
      "        [ 0.0746, -0.2381,  0.0453, -0.2780,  0.1450,  0.1002,  0.1892,  0.2106,\n",
      "         -0.0258, -0.0587, -0.0512,  0.1161,  0.1945, -0.2267, -0.0380, -0.0745],\n",
      "        [-0.0992,  0.2467,  0.0252,  0.2271, -0.0305, -0.2106,  0.1912, -0.0768,\n",
      "          0.1399,  0.1241,  0.2133, -0.1723,  0.0789, -0.0799,  0.0325,  0.1844],\n",
      "        [ 0.0782, -0.2953, -0.1592, -0.1404,  0.2023,  0.2664, -0.1047,  0.0949,\n",
      "         -0.1128, -0.1117,  0.1867, -0.0163,  0.0490,  0.1757, -0.1301,  0.0218],\n",
      "        [ 0.0043,  0.2988,  0.0249, -0.1646, -0.0138, -0.2702,  0.1206, -0.1352,\n",
      "          0.1239,  0.1962,  0.0765,  0.2674,  0.0589,  0.2310, -0.1290, -0.0042],\n",
      "        [ 0.1142,  0.0756,  0.1781, -0.2927, -0.0344,  0.2850,  0.0260,  0.1673,\n",
      "          0.2779,  0.0678, -0.1842,  0.0097,  0.2180, -0.2676,  0.0149, -0.0639],\n",
      "        [ 0.0132, -0.2733, -0.2397, -0.0465,  0.2832,  0.2571, -0.0224,  0.0650,\n",
      "          0.0636, -0.1016,  0.0377,  0.0787,  0.2540, -0.0042,  0.1467, -0.0130],\n",
      "        [-0.0132, -0.2738, -0.0671, -0.3037, -0.1768, -0.0190,  0.2419,  0.1199,\n",
      "          0.2106,  0.0370, -0.1510, -0.1383,  0.1767,  0.0751,  0.0747, -0.1764],\n",
      "        [-0.0843,  0.0601, -0.2812, -0.0923,  0.2684,  0.1765, -0.0955,  0.1504,\n",
      "          0.0561, -0.2597,  0.0314, -0.1786, -0.1747, -0.2898,  0.2370, -0.0751],\n",
      "        [ 0.0774, -0.0755,  0.0266,  0.1721, -0.0391, -0.0185, -0.2577,  0.1732,\n",
      "         -0.1421, -0.1680, -0.0788,  0.1635, -0.0714,  0.2864, -0.0118, -0.0412],\n",
      "        [-0.0876, -0.2321, -0.2385, -0.1844,  0.0533, -0.0172,  0.0401,  0.0359,\n",
      "         -0.0048,  0.1377, -0.1077, -0.1755,  0.0982, -0.2967,  0.1568, -0.2618],\n",
      "        [-0.1076,  0.0221, -0.0117,  0.2276,  0.1179, -0.2639, -0.0662, -0.2700,\n",
      "          0.0377,  0.2138, -0.1918,  0.0279, -0.2910,  0.0138, -0.0092,  0.0574],\n",
      "        [ 0.0168, -0.2635,  0.1419, -0.1952,  0.1084,  0.2043,  0.0969, -0.0819,\n",
      "          0.2116, -0.0709, -0.0511, -0.2502,  0.2663, -0.0723,  0.1592, -0.0636],\n",
      "        [-0.0510,  0.0939, -0.0543, -0.0209, -0.0806,  0.1183,  0.0879,  0.2649,\n",
      "          0.0971, -0.2098,  0.1051, -0.2144, -0.1804, -0.1765, -0.1597, -0.0240],\n",
      "        [-0.0588, -0.1562,  0.0345, -0.0262, -0.0066,  0.1122,  0.1505,  0.1019,\n",
      "          0.0752, -0.0120,  0.1488,  0.2491, -0.0472,  0.1954,  0.0141,  0.0969],\n",
      "        [ 0.0706, -0.2077, -0.0842,  0.0159,  0.1918,  0.0501,  0.1067,  0.2018,\n",
      "         -0.1019,  0.0482,  0.0104, -0.0056, -0.1470, -0.2414, -0.1694, -0.1252],\n",
      "        [ 0.0749, -0.2790,  0.0253,  0.1204, -0.0373, -0.1187, -0.0762,  0.0779,\n",
      "          0.2463, -0.0852,  0.0694, -0.0277, -0.0620, -0.0619,  0.1032,  0.1552],\n",
      "        [-0.0710,  0.1412,  0.1539,  0.0847, -0.0434,  0.1572, -0.1846,  0.1447,\n",
      "          0.1005,  0.1125,  0.1812,  0.0648, -0.0573,  0.2501, -0.0689, -0.0092],\n",
      "        [-0.1919, -0.2325, -0.2570,  0.0783, -0.0699, -0.1796, -0.1774,  0.1785,\n",
      "         -0.1870, -0.0264,  0.1549,  0.1237,  0.1363, -0.0400, -0.1078,  0.1906],\n",
      "        [ 0.1578, -0.1871, -0.1133, -0.0775, -0.0215, -0.0177, -0.1855,  0.1035,\n",
      "         -0.0774, -0.0969, -0.1980, -0.2568, -0.0448, -0.0747, -0.0302, -0.2479]])),\n",
      "             ('0.bias',\n",
      "              tensor([ 0.0974, -0.0254, -0.0045, -0.0150, -0.1225, -0.2027, -0.1716, -0.0837,\n",
      "         0.1286, -0.1729,  0.0484,  0.0603,  0.1452,  0.2378,  0.0283,  0.0205,\n",
      "         0.2318, -0.1856, -0.0627, -0.0336, -0.0480, -0.1469, -0.1014,  0.0431,\n",
      "         0.1469,  0.0429,  0.1788,  0.0868, -0.0214, -0.1310,  0.1426, -0.1929,\n",
      "         0.0961, -0.0875, -0.0977, -0.1622,  0.1610, -0.0319,  0.0631,  0.1585])),\n",
      "             ('2.weight',\n",
      "              tensor([[-0.0589,  0.0136,  0.1669,  ...,  0.1351,  0.1106, -0.0784],\n",
      "        [-0.0595, -0.0703, -0.1000,  ...,  0.0183,  0.1483,  0.1294],\n",
      "        [ 0.1022, -0.1132, -0.0587,  ...,  0.0609, -0.0431,  0.0077],\n",
      "        ...,\n",
      "        [ 0.0348,  0.0394,  0.0599,  ..., -0.0620,  0.0964,  0.0697],\n",
      "        [ 0.0467,  0.1350,  0.1395,  ..., -0.1387, -0.0457, -0.1151],\n",
      "        [-0.0049, -0.1349,  0.0221,  ..., -0.1071, -0.1359,  0.1347]])),\n",
      "             ('2.bias',\n",
      "              tensor([ 0.1143, -0.0306,  0.0758,  0.1179, -0.0758, -0.0019, -0.0110,  0.0341,\n",
      "        -0.0596, -0.1413, -0.1337, -0.0840, -0.0506,  0.0293,  0.1480, -0.0044,\n",
      "        -0.1174, -0.1048, -0.0961, -0.0453, -0.0202, -0.0400,  0.0147,  0.0392,\n",
      "         0.0468,  0.0661, -0.1353, -0.0301,  0.0144,  0.0766])),\n",
      "             ('4.weight',\n",
      "              tensor([[-0.1115,  0.0886, -0.0562,  0.0705, -0.0359,  0.0982,  0.0618, -0.0812,\n",
      "          0.0613, -0.0008,  0.0650, -0.1012,  0.1565,  0.1255, -0.1217,  0.0449,\n",
      "          0.1298,  0.0866, -0.1254,  0.0575,  0.0375, -0.1028,  0.0609,  0.1084,\n",
      "          0.1180,  0.0234, -0.1663,  0.0518,  0.0308, -0.0034],\n",
      "        [-0.1255,  0.0984, -0.1364,  0.1650,  0.1950, -0.0591, -0.1457,  0.1121,\n",
      "         -0.0013,  0.0754, -0.1395,  0.0393, -0.1256,  0.0765,  0.1474, -0.1041,\n",
      "         -0.0500,  0.1390, -0.0030, -0.0698,  0.0040,  0.0913, -0.1148,  0.0317,\n",
      "          0.1859, -0.1064, -0.0189, -0.1237, -0.0765,  0.1359],\n",
      "        [ 0.1612,  0.0239, -0.0031,  0.0883, -0.0527, -0.1053,  0.0478, -0.1497,\n",
      "         -0.0973, -0.1504, -0.0719, -0.1638, -0.1144, -0.0379, -0.0725,  0.1379,\n",
      "          0.0249, -0.1488, -0.1823,  0.0643,  0.0843,  0.0860, -0.0880,  0.0277,\n",
      "          0.0211, -0.0581,  0.1640, -0.0983,  0.1244, -0.1360],\n",
      "        [ 0.1047, -0.0311,  0.1313,  0.0411,  0.1668, -0.1405,  0.0595, -0.1173,\n",
      "          0.0377, -0.0705,  0.1507,  0.0602, -0.1676,  0.1564, -0.1120, -0.0489,\n",
      "          0.0225,  0.1198, -0.0859, -0.0142,  0.1537,  0.1740, -0.1815, -0.1217,\n",
      "          0.1737, -0.0659, -0.0990,  0.0257, -0.0789,  0.1701],\n",
      "        [ 0.1423,  0.1062,  0.1198, -0.0105,  0.1094,  0.0617,  0.1324,  0.0032,\n",
      "          0.1342,  0.0925,  0.0324,  0.0274, -0.0412,  0.0748, -0.1232,  0.1707,\n",
      "         -0.0570, -0.0053, -0.1132,  0.0152,  0.0806,  0.1144,  0.1469, -0.1119,\n",
      "          0.0434, -0.1759, -0.1250, -0.1888,  0.0963,  0.1048],\n",
      "        [ 0.0042, -0.0641, -0.0774,  0.0562,  0.1243, -0.0732, -0.0530, -0.0332,\n",
      "         -0.1303,  0.1086, -0.0794, -0.0782, -0.1050, -0.1766,  0.0752, -0.1736,\n",
      "         -0.1425, -0.0294, -0.0768,  0.0943, -0.0265, -0.0554, -0.0623, -0.1527,\n",
      "         -0.1707,  0.0552, -0.1182,  0.1226,  0.1119,  0.1127],\n",
      "        [ 0.1116,  0.0245, -0.0354,  0.0676,  0.0197,  0.1461,  0.0507, -0.0923,\n",
      "         -0.1440,  0.1518, -0.1542, -0.1403,  0.1527, -0.0527,  0.1214,  0.0786,\n",
      "          0.0732,  0.1725,  0.0573,  0.1619,  0.1108,  0.0213,  0.1739, -0.0353,\n",
      "         -0.0551,  0.0765, -0.1154,  0.1390, -0.0968, -0.0089],\n",
      "        [-0.0515, -0.0354,  0.0881,  0.0787,  0.0369,  0.0764,  0.1827, -0.0770,\n",
      "         -0.0835,  0.0108, -0.1394,  0.0377, -0.1109, -0.0623, -0.1248,  0.0778,\n",
      "         -0.1398, -0.1380, -0.1364, -0.0619,  0.0212, -0.0675,  0.1226,  0.1051,\n",
      "          0.0739,  0.0895, -0.1552,  0.1621, -0.0115, -0.0447],\n",
      "        [-0.0771,  0.1581, -0.1826,  0.1603, -0.0797,  0.1124, -0.1488, -0.1417,\n",
      "          0.0007, -0.0255,  0.1740, -0.0159,  0.1267, -0.0494, -0.1022,  0.1616,\n",
      "          0.1704, -0.1234, -0.1310, -0.1253, -0.1763, -0.1099, -0.0846,  0.1127,\n",
      "         -0.1829, -0.0744, -0.0217, -0.1214, -0.0167, -0.1746],\n",
      "        [-0.0617,  0.0497, -0.0296,  0.0018,  0.0185,  0.0288,  0.1230,  0.0200,\n",
      "         -0.0036,  0.0239,  0.0882,  0.1399,  0.0055, -0.0417, -0.1804,  0.0413,\n",
      "          0.0674,  0.1730, -0.1556,  0.1648, -0.0772, -0.1128, -0.0553,  0.1208,\n",
      "         -0.1832, -0.1873, -0.1582, -0.0442, -0.0437,  0.0944],\n",
      "        [ 0.0663, -0.1500, -0.0077, -0.1741,  0.1525,  0.0232, -0.0167,  0.1130,\n",
      "          0.0546, -0.1173, -0.0847, -0.0714,  0.1277,  0.0040, -0.0964,  0.0881,\n",
      "         -0.0816, -0.1184, -0.1112,  0.0936,  0.1640,  0.1684,  0.1576,  0.1107,\n",
      "          0.0715, -0.0905, -0.1172,  0.0646, -0.1124, -0.1683],\n",
      "        [ 0.0766,  0.1132, -0.0574,  0.1221, -0.0392,  0.0520,  0.1387, -0.0992,\n",
      "         -0.0943,  0.0247, -0.0071, -0.1790, -0.0428,  0.1173, -0.1095,  0.1365,\n",
      "         -0.0565,  0.1572, -0.0023,  0.1130, -0.1875, -0.0904,  0.1192,  0.1191,\n",
      "         -0.1010, -0.1878,  0.1424, -0.0057, -0.1779,  0.0904],\n",
      "        [ 0.0791, -0.0963, -0.1731,  0.0159,  0.0554, -0.0139, -0.1332, -0.1222,\n",
      "          0.1111, -0.0093,  0.0842,  0.1577,  0.0759,  0.1266, -0.0586, -0.0185,\n",
      "          0.0810,  0.1594, -0.0685, -0.1126,  0.0510,  0.1725, -0.0313,  0.0806,\n",
      "          0.0665, -0.0500, -0.1412, -0.1179, -0.0799,  0.0900],\n",
      "        [ 0.1624, -0.0923,  0.0076,  0.1590,  0.1045,  0.1428,  0.0438,  0.0300,\n",
      "         -0.1251, -0.0660, -0.0967, -0.1620,  0.1526,  0.0978, -0.1194,  0.1791,\n",
      "          0.1004,  0.1781, -0.0439,  0.0488, -0.1098,  0.1843,  0.0018, -0.0229,\n",
      "          0.1871, -0.1063, -0.0484, -0.0111,  0.0057, -0.0876],\n",
      "        [ 0.1566, -0.1439, -0.0304,  0.0791,  0.1598, -0.0426, -0.0067, -0.0239,\n",
      "         -0.0780, -0.1361, -0.0052, -0.0105,  0.0527, -0.1738, -0.0127, -0.1543,\n",
      "         -0.1722,  0.1092,  0.0961, -0.0602, -0.0304, -0.0555, -0.0246, -0.0034,\n",
      "         -0.0873, -0.0856, -0.0696, -0.1254, -0.1634,  0.0343],\n",
      "        [-0.0467,  0.1122, -0.1023, -0.0552, -0.0709,  0.1578,  0.1040,  0.1715,\n",
      "         -0.1443,  0.0409, -0.0378, -0.1388,  0.1679,  0.0699,  0.0353, -0.0247,\n",
      "          0.1125,  0.0287,  0.0641, -0.0932, -0.0038, -0.0839, -0.0570,  0.1284,\n",
      "          0.0937,  0.0460, -0.0921,  0.0572,  0.0331,  0.0789],\n",
      "        [-0.0074, -0.1085, -0.0705,  0.1062, -0.0899, -0.0950, -0.0950, -0.1589,\n",
      "         -0.1354, -0.0322,  0.0916, -0.0596, -0.1693,  0.1101, -0.1071, -0.0664,\n",
      "         -0.1761,  0.1296, -0.1700,  0.1216,  0.0072,  0.1432,  0.1392,  0.1672,\n",
      "          0.0518,  0.1487, -0.0104, -0.0098, -0.1292,  0.1507],\n",
      "        [-0.0092, -0.1237,  0.0192, -0.0236, -0.1254, -0.0861,  0.0716, -0.0481,\n",
      "          0.0538, -0.1121, -0.1722,  0.0483,  0.1629,  0.1012,  0.1540, -0.1074,\n",
      "         -0.1572,  0.1487, -0.0177, -0.0851,  0.1429,  0.0773, -0.1177, -0.1401,\n",
      "         -0.1146, -0.0833, -0.0567,  0.1302, -0.1486, -0.0449],\n",
      "        [-0.0962,  0.0089,  0.0327,  0.1329, -0.0035, -0.0582, -0.1150, -0.0566,\n",
      "          0.0460,  0.1656, -0.1788, -0.1795, -0.0281, -0.1056,  0.0171, -0.1764,\n",
      "          0.1749,  0.0900,  0.0872,  0.0297, -0.0465, -0.0172,  0.1363,  0.1477,\n",
      "          0.1361, -0.1764, -0.0246,  0.0447, -0.0516,  0.1031],\n",
      "        [-0.0966,  0.0427, -0.0761, -0.0307, -0.0924,  0.1016, -0.1685,  0.1500,\n",
      "          0.0171, -0.0754,  0.1063, -0.1592,  0.1114, -0.0438,  0.0440,  0.0030,\n",
      "          0.1315, -0.1294, -0.1606,  0.1257, -0.1154,  0.0060, -0.0527,  0.1899,\n",
      "         -0.1724,  0.1859,  0.0477, -0.1204, -0.0629,  0.0576]])),\n",
      "             ('4.bias',\n",
      "              tensor([-0.0723,  0.1601,  0.0141, -0.0485, -0.0969,  0.1426,  0.1222, -0.0543,\n",
      "        -0.1057,  0.0836, -0.0490, -0.1553, -0.1033, -0.0037, -0.0024, -0.0153,\n",
      "        -0.1182, -0.1615,  0.0547, -0.1671])),\n",
      "             ('6.weight',\n",
      "              tensor([[ 0.0814, -0.0087,  0.1054,  0.1924,  0.0074, -0.1706, -0.2293, -0.0752,\n",
      "          0.0782,  0.1665,  0.0014,  0.0067, -0.0468, -0.1461, -0.0898, -0.1679,\n",
      "          0.0648,  0.1807,  0.0127, -0.1881]])),\n",
      "             ('6.bias', tensor([0.1597]))])\n",
      "\n",
      "And the original values for weights and bias are:\n",
      "'weights: Linear(in_features=20, out_features=1, bias=True)'\n"
     ]
    }
   ],
   "execution_count": 8
  },
  {
   "metadata": {},
   "cell_type": "markdown",
   "source": "# Plot Predictions",
   "id": "1dd0efe8f7b809f1"
  },
  {
   "metadata": {
    "ExecuteTime": {
     "end_time": "2025-07-02T10:25:18.543236Z",
     "start_time": "2025-07-02T10:25:18.290011Z"
    }
   },
   "cell_type": "code",
   "source": [
    "# Plot the loss curves\n",
    "print(\"Large preprocessed dataset, scaled\")\n",
    "plt.plot(epoch_count, train_loss_values, label=\"Train loss\")\n",
    "plt.plot(epoch_count, test_loss_values, label=\"Test loss\")\n",
    "plt.title(\"Training and test loss curves\")\n",
    "plt.ylabel(\"Loss\")\n",
    "plt.xlabel(\"Epochs\")\n",
    "plt.legend();"
   ],
   "id": "69bb04d4b439a42f",
   "outputs": [
    {
     "name": "stdout",
     "output_type": "stream",
     "text": [
      "Large preprocessed dataset, scaled\n"
     ]
    },
    {
     "data": {
      "text/plain": [
       "<Figure size 640x480 with 1 Axes>"
      ],
      "image/png": "[encoded data removed]"
     },
     "metadata": {},
     "output_type": "display_data"
    }
   ],
   "execution_count": 9
  },
  {
   "metadata": {
    "ExecuteTime": {
     "end_time": "2025-07-02T10:25:18.555937Z",
     "start_time": "2025-07-02T10:25:18.551541Z"
    }
   },
   "cell_type": "code",
   "source": "# train_loss_values, test_loss_values, epoch_count",
   "id": "e6c26015db749462",
   "outputs": [],
   "execution_count": 10
  },
  {
   "metadata": {
    "ExecuteTime": {
     "end_time": "2025-07-02T10:25:36.489253Z",
     "start_time": "2025-07-02T10:25:18.601251Z"
    }
   },
   "cell_type": "code",
   "source": [
    "# Simpler feature importance method that works well with neural networks\n",
    "def compute_feature_importance_simple(model, X, n_repeats=5):\n",
    "    \"\"\"Calculate feature importance by measuring impact of shuffling each feature\"\"\"\n",
    "    importance = np.zeros(X.shape[1])\n",
    "    model.eval()\n",
    "\n",
    "    # Get baseline prediction\n",
    "    X_tensor = torch.tensor(X).float()\n",
    "    with torch.no_grad():\n",
    "        baseline_preds = model(X_tensor).flatten().numpy()\n",
    "\n",
    "    # For each feature\n",
    "    for i in range(X.shape[1]):\n",
    "        feature_importance = 0\n",
    "\n",
    "        # Repeat the process multiple times\n",
    "        for _ in range(n_repeats):\n",
    "            # Create a copy of X with the feature shuffled\n",
    "            X_permuted = X.copy()\n",
    "            np.random.shuffle(X_permuted[:, i])\n",
    "\n",
    "            # Get predictions with shuffled feature\n",
    "            X_permuted_tensor = torch.tensor(X_permuted).float()\n",
    "            with torch.no_grad():\n",
    "                permuted_preds = model(X_permuted_tensor).flatten().numpy()\n",
    "\n",
    "            # Calculate importance as the decrease in performance\n",
    "            feature_importance += np.mean(np.abs(baseline_preds - permuted_preds))\n",
    "\n",
    "        importance[i] = feature_importance / n_repeats\n",
    "\n",
    "    return importance\n",
    "\n",
    "# Calculate feature importance\n",
    "importance = compute_feature_importance_simple(model, X_test_np)\n",
    "\n",
    "# Get feature names from dataframe\n",
    "feature_names = df.columns[:-1]  # Exclude the target column\n",
    "\n",
    "# Plot feature importance\n",
    "plt.figure(figsize=(12, 8))\n",
    "importance_sorted_idx = np.argsort(importance)\n",
    "plt.barh(range(len(importance)), importance[importance_sorted_idx])\n",
    "plt.yticks(range(len(importance)), [feature_names[i] for i in importance_sorted_idx])\n",
    "plt.title('Feature Importance')\n",
    "plt.xlabel('Mean Absolute Difference in Predictions')\n",
    "plt.tight_layout()\n",
    "plt.show()"
   ],
   "id": "8cbde28603ff88d4",
   "outputs": [
    {
     "data": {
      "text/plain": [
       "<Figure size 1200x800 with 1 Axes>"
      ],
      "image/png": "[encoded data removed]"
     },
     "metadata": {},
     "output_type": "display_data"
    }
   ],
   "execution_count": 11
  },
  {
   "metadata": {
    "ExecuteTime": {
     "end_time": "2025-07-02T10:25:37.172753Z",
     "start_time": "2025-07-02T10:25:36.519229Z"
    }
   },
   "cell_type": "code",
   "source": [
    "# Create confusion matrix\n",
    "from sklearn.metrics import confusion_matrix\n",
    "import matplotlib.pyplot as plt\n",
    "import seaborn as sns\n",
    "\n",
    "def plot_confusion_matrix(model, X_test, Y_test, threshold=0.5):\n",
    "    # Get predictions from the model\n",
    "    model.eval()\n",
    "    with torch.no_grad():\n",
    "        Y_test_pred = model(X_test).flatten()\n",
    "        # Convert probabilities to binary predictions using threshold\n",
    "        predicted_classes = (Y_test_pred >= threshold).float()\n",
    "\n",
    "    # Convert tensors to numpy for sklearn\n",
    "    y_true = Y_test.numpy()\n",
    "    y_pred = predicted_classes.numpy()\n",
    "\n",
    "    # Create confusion matrix\n",
    "    cm = confusion_matrix(y_true, y_pred)\n",
    "\n",
    "    # Plot confusion matrix with seaborn\n",
    "    plt.figure(figsize=(8, 6))\n",
    "    sns.heatmap(cm, annot=True, fmt='d', cmap='Blues',\n",
    "                xticklabels=['Loss', 'Win'],\n",
    "                yticklabels=['Loss', 'Win'])\n",
    "    plt.xlabel('Predicted')\n",
    "    plt.ylabel('Actual')\n",
    "    plt.title('Confusion Matrix')\n",
    "\n",
    "    # Calculate and display accuracy\n",
    "    accuracy = (cm[0,0] + cm[1,1]) / np.sum(cm)\n",
    "    plt.figtext(0.5, 0.01, f'Accuracy: {accuracy:.4f}', ha='center')\n",
    "\n",
    "    plt.tight_layout()\n",
    "    plt.show()\n",
    "\n",
    "# Call the function with your model\n",
    "plot_confusion_matrix(model, X_test, Y_test)"
   ],
   "id": "73901840180a8186",
   "outputs": [
    {
     "data": {
      "text/plain": [
       "<Figure size 800x600 with 2 Axes>"
      ],
      "image/png": "[encoded data removed]"
     },
     "metadata": {},
     "output_type": "display_data"
    }
   ],
   "execution_count": 12
  }
 ],
 "metadata": {
  "kernelspec": {
   "display_name": "Python 3 (ipykernel)",
   "language": "python",
   "name": "python3"
  },
  "language_info": {
   "codemirror_mode": {
    "name": "ipython",
    "version": 3
   },
   "file_extension": ".py",
   "mimetype": "text/x-python",
   "name": "python",
   "nbconvert_exporter": "python",
   "pygments_lexer": "ipython3",
   "version": "3.11.12"
  }
 },
 "nbformat": 4,
 "nbformat_minor": 5
}
