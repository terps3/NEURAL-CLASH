{
 "cells": [
  {
   "cell_type": "markdown",
   "id": "2ca3f833-f872-4913-8315-474d3e74bf34",
   "metadata": {},
   "source": "### Imports"
  },
  {
   "cell_type": "code",
   "id": "006ac6ad-6406-428c-880f-4e2c627a5638",
   "metadata": {
    "ExecuteTime": {
     "end_time": "2025-07-02T11:29:29.339744Z",
     "start_time": "2025-07-02T11:29:29.328318Z"
    }
   },
   "source": [
    "import torch\n",
    "import torch.nn as nn\n",
    "import pandas as pd\n",
    "import numpy as np\n",
    "from sklearn.preprocessing import StandardScaler\n",
    "from sklearn.model_selection import train_test_split\n",
    "from sklearn.metrics import accuracy_score, confusion_matrix\n",
    "import seaborn as sns\n",
    "import matplotlib.pyplot as plt\n"
   ],
   "outputs": [],
   "execution_count": 43
  },
  {
   "cell_type": "markdown",
   "id": "b061dbce-a947-45d4-b16e-15e610fad549",
   "metadata": {},
   "source": "## Macros"
  },
  {
   "cell_type": "code",
   "id": "8eaaa71b-dc66-47e4-89c6-3ba7a0b7b8aa",
   "metadata": {
    "ExecuteTime": {
     "end_time": "2025-07-02T11:29:29.363812Z",
     "start_time": "2025-07-02T11:29:29.359942Z"
    }
   },
   "source": [
    "datapath = \"processed_deck_data.csv\"\n",
    "hidden_layers =  (50, 40, 30, 20, 10) # hidden layers\n",
    "input_size = 0\n",
    "num_epochs = 502 # number of epochs to train"
   ],
   "outputs": [],
   "execution_count": 44
  },
  {
   "cell_type": "markdown",
   "id": "c16566e4-6a1c-4ecf-886f-ce8ceb9ddc9f",
   "metadata": {},
   "source": [
    "# Get Data\n",
    "### already preprocessed, must be all numeric"
   ]
  },
  {
   "cell_type": "code",
   "id": "2fbd8c8c-0a02-4830-9720-500d513c5b4b",
   "metadata": {
    "ExecuteTime": {
     "end_time": "2025-07-02T11:29:32.770597Z",
     "start_time": "2025-07-02T11:29:29.381650Z"
    }
   },
   "source": [
    "df = pd.read_csv(datapath)\n",
    "\n",
    "# last column is the label\n",
    "X = df.iloc[:, :-1].values  # features\n",
    "\n",
    "# Standardize the features\n",
    "scaler = StandardScaler()\n",
    "X = scaler.fit_transform(X)  # fit and transform the features\n",
    "\n",
    "Y = df.iloc[:, -1].values   # labels\n",
    "\n",
    "X_train_np, X_test_np, Y_train_np, Y_test_np = train_test_split(X, Y)\n",
    "\n",
    "# Convert to torch tensors\n",
    "X_train = torch.tensor(X_train_np).float() # dtype=torch.float32\n",
    "Y_train = torch.tensor(Y_train_np).float()\n",
    "X_test = torch.tensor(X_test_np).float()\n",
    "Y_test = torch.tensor(Y_test_np).float()\n",
    "\n",
    "# determine size of input space\n",
    "input_size = X_train.shape[1]"
   ],
   "outputs": [],
   "execution_count": 45
  },
  {
   "cell_type": "code",
   "id": "0778c141-100a-49ba-9da7-cff1277898e5",
   "metadata": {
    "ExecuteTime": {
     "end_time": "2025-07-02T11:29:32.804185Z",
     "start_time": "2025-07-02T11:29:32.795166Z"
    }
   },
   "source": "np.average(Y)",
   "outputs": [
    {
     "data": {
      "text/plain": [
       "np.float64(0.4938918593659632)"
      ]
     },
     "execution_count": 46,
     "metadata": {},
     "output_type": "execute_result"
    }
   ],
   "execution_count": 46
  },
  {
   "cell_type": "markdown",
   "id": "f5281ec9-4d70-41d5-afbc-ff0277d12c1b",
   "metadata": {},
   "source": [
    "# Build Neural Network"
   ]
  },
  {
   "cell_type": "code",
   "id": "c5c7389a-e1aa-4f74-83af-3ee334aa9d35",
   "metadata": {
    "ExecuteTime": {
     "end_time": "2025-07-02T11:29:32.836410Z",
     "start_time": "2025-07-02T11:29:32.829401Z"
    }
   },
   "source": [
    "layers = list()\n",
    "\n",
    "if len(hidden_layers) == 0:\n",
    "    layers.append(nn.Linear(input_size, 1))\n",
    "    layers.append(nn.Sigmoid())\n",
    "else:\n",
    "    layers.append(nn.Linear(input_size, hidden_layers[0]))\n",
    "    layers.append(nn.ReLU())\n",
    "\n",
    "    for i in range(1, len(hidden_layers)):\n",
    "        layers.append(nn.Linear(hidden_layers[i-1], hidden_layers[i]))\n",
    "        layers.append(nn.ReLU())\n",
    "\n",
    "    layers.append(nn.Linear(hidden_layers[-1], 1))\n",
    "    layers.append(nn.Sigmoid())\n",
    "\n",
    "model = nn.Sequential(*layers)\n",
    "\n",
    "# prepare for training\n",
    "loss_fn = nn.BCELoss()\n",
    "optimizer = torch.optim.Adam(model.parameters(), lr=0.0001)"
   ],
   "outputs": [],
   "execution_count": 47
  },
  {
   "cell_type": "markdown",
   "id": "3c891c59-2932-4c8f-b615-6de8ab131b7a",
   "metadata": {},
   "source": [
    "# Define Train Loop"
   ]
  },
  {
   "cell_type": "code",
   "id": "6433e4e7-c27b-4f6c-94c4-0f381c7d867c",
   "metadata": {
    "jupyter": {
     "is_executing": true
    },
    "ExecuteTime": {
     "start_time": "2025-07-02T11:29:32.861541Z"
    }
   },
   "source": [
    "# Create empty loss lists to track values\n",
    "train_loss_values = []\n",
    "test_loss_values = []\n",
    "epoch_count = []\n",
    "\n",
    "for epoch in range(num_epochs):\n",
    "    model.train()\n",
    "    \n",
    "    # Forward pass\n",
    "    Y_pred = model(X_train).flatten()\n",
    "    loss = loss_fn(Y_pred, Y_train)\n",
    "\n",
    "    # Backward pass and optimization\n",
    "    optimizer.zero_grad()\n",
    "    loss.backward()\n",
    "    optimizer.step()\n",
    "\n",
    "    # Print loss every 100 epochs\n",
    "    if epoch % 100 == 0:\n",
    "        with torch.inference_mode():\n",
    "            # Test the model\n",
    "            Y_test_pred = model(X_test).flatten()\n",
    "            test_loss = loss_fn(Y_test_pred, Y_test)\n",
    "\n",
    "            epoch_count.append(epoch)\n",
    "            train_loss_values.append(loss.detach().numpy())\n",
    "            test_loss_values.append(test_loss.detach().numpy())\n",
    "            print(f'Epoch [{epoch+1}/{num_epochs}], Loss: {loss.item():.2f}')\n",
    "            print(\"Y_pred:\", Y_pred)"
   ],
   "outputs": [
    {
     "name": "stdout",
     "output_type": "stream",
     "text": [
      "Epoch [1/502], Loss: 0.71\n",
      "Y_pred: tensor([0.4099, 0.4122, 0.4151,  ..., 0.4119, 0.4097, 0.4113],\n",
      "       grad_fn=<ViewBackward0>)\n",
      "Epoch [101/502], Loss: 0.70\n",
      "Y_pred: tensor([0.4359, 0.4370, 0.4387,  ..., 0.4374, 0.4360, 0.4336],\n",
      "       grad_fn=<ViewBackward0>)\n",
      "Epoch [201/502], Loss: 0.69\n",
      "Y_pred: tensor([0.4651, 0.4643, 0.4666,  ..., 0.4655, 0.4666, 0.4627],\n",
      "       grad_fn=<ViewBackward0>)\n",
      "Epoch [301/502], Loss: 0.69\n",
      "Y_pred: tensor([0.4863, 0.4810, 0.4919,  ..., 0.4906, 0.4984, 0.4854],\n",
      "       grad_fn=<ViewBackward0>)\n",
      "Epoch [401/502], Loss: 0.69\n",
      "Y_pred: tensor([0.4860, 0.4800, 0.4951,  ..., 0.4901, 0.5025, 0.4873],\n",
      "       grad_fn=<ViewBackward0>)\n"
     ]
    }
   ],
   "execution_count": null
  },
  {
   "metadata": {
    "ExecuteTime": {
     "end_time": "2025-07-02T11:28:39.844223500Z",
     "start_time": "2025-07-02T11:19:04.527716Z"
    }
   },
   "cell_type": "code",
   "source": "",
   "id": "71442ea2d0213f00",
   "outputs": [],
   "execution_count": null
  },
  {
   "cell_type": "code",
   "id": "3acd9c80-cc5e-4b40-bfc1-63293652fa97",
   "metadata": {
    "ExecuteTime": {
     "end_time": "2025-07-02T11:28:39.844223500Z",
     "start_time": "2025-07-02T11:19:04.591866Z"
    }
   },
   "source": [
    "print(\"Y_pred:\")\n",
    "print(model(X_test).flatten())\n",
    "print(\"Y_test:\")\n",
    "print(Y_test)\n"
   ],
   "outputs": [
    {
     "name": "stdout",
     "output_type": "stream",
     "text": [
      "Y_pred:\n",
      "tensor([0.4956, 0.4963, 0.4936,  ..., 0.4962, 0.4921, 0.4929],\n",
      "       grad_fn=<ViewBackward0>)\n",
      "Y_test:\n",
      "tensor([0., 0., 1.,  ..., 1., 1., 0.])\n"
     ]
    }
   ],
   "execution_count": 29
  },
  {
   "metadata": {},
   "cell_type": "markdown",
   "source": "# Save Model & Data",
   "id": "db577546a747f9b5"
  },
  {
   "metadata": {
    "ExecuteTime": {
     "end_time": "2025-07-02T11:28:39.844223500Z",
     "start_time": "2025-07-02T11:19:04.929378Z"
    }
   },
   "cell_type": "code",
   "source": [
    "import os\n",
    "os.listdir(os.getcwd())"
   ],
   "id": "50e4a97de041dfa3",
   "outputs": [
    {
     "data": {
      "text/plain": [
       "['BattlesStaging_01012021_WL_tagged_new.csv',\n",
       " 'clash_royale_mapped_cards.py',\n",
       " 'clash_royale_mapped_cards_new.py',\n",
       " 'data_modified1.csv',\n",
       " 'model_run_20250702_124556',\n",
       " 'neural_sketwork.ipynb',\n",
       " 'processed_deck_data.csv']"
      ]
     },
     "execution_count": 30,
     "metadata": {},
     "output_type": "execute_result"
    }
   ],
   "execution_count": 30
  },
  {
   "metadata": {
    "ExecuteTime": {
     "end_time": "2025-07-02T11:28:39.844223500Z",
     "start_time": "2025-07-02T11:19:04.991103Z"
    }
   },
   "cell_type": "code",
   "source": [
    "import os\n",
    "from datetime import datetime\n",
    "import json\n",
    "import shutil\n",
    "\n",
    "def save_model_run(model, datapath, hidden_layers, input_size, num_epochs,\n",
    "                  train_loss_values, test_loss_values, epoch_count):\n",
    "    # Create a timestamped folder\n",
    "    timestamp = datetime.now().strftime(\"%Y%m%d_%H%M%S\")\n",
    "    folder_name = f\"model_run_{timestamp}\"\n",
    "    os.makedirs(folder_name, exist_ok=True)\n",
    "\n",
    "    # Save model weights\n",
    "    model_path = os.path.join(folder_name, \"model_weights.pth\")\n",
    "    torch.save(model.state_dict(), model_path)\n",
    "\n",
    "    # Save configuration details\n",
    "    config = {\n",
    "        \"datapath\": datapath,\n",
    "        \"hidden_layers\": hidden_layers,\n",
    "        \"input_size\": input_size,\n",
    "        \"num_epochs\": num_epochs,\n",
    "        \"timestamp\": timestamp,\n",
    "        \"learning_rate\": optimizer.param_groups[0]['lr']\n",
    "    }\n",
    "\n",
    "    with open(os.path.join(folder_name, \"config.json\"), 'w') as f:\n",
    "        json.dump(config, f, indent=4)\n",
    "\n",
    "    # Save loss values\n",
    "    loss_data = {\n",
    "        \"epochs\": epoch_count,\n",
    "        \"train_loss\": train_loss_values,\n",
    "        \"test_loss\": test_loss_values\n",
    "    }\n",
    "    np.savez(os.path.join(folder_name, \"loss_data.npz\"), **loss_data)\n",
    "\n",
    "    # Save plots\n",
    "    # Loss curve\n",
    "    plt.figure(figsize=(10, 6))\n",
    "    plt.plot(epoch_count, train_loss_values, label=\"Train loss\")\n",
    "    plt.plot(epoch_count, test_loss_values, label=\"Test loss\")\n",
    "    plt.title(\"Training and test loss curves\")\n",
    "    plt.ylabel(\"Loss\")\n",
    "    plt.xlabel(\"Epochs\")\n",
    "    plt.legend()\n",
    "    plt.savefig(os.path.join(folder_name, \"loss_curves.png\"))\n",
    "    plt.close()\n",
    "\n",
    "    # Calculate and save confusion matrix\n",
    "    model.eval()\n",
    "    with torch.no_grad():\n",
    "        Y_test_pred = model(X_test).flatten()\n",
    "        predicted_classes = (Y_test_pred >= 0.5).float()\n",
    "        cm = confusion_matrix(Y_test.numpy(), predicted_classes.numpy())\n",
    "        accuracy = accuracy_score(Y_test.numpy(), predicted_classes.numpy())\n",
    "\n",
    "    plt.figure(figsize=(8, 6))\n",
    "    sns.heatmap(cm, annot=True, fmt='d', cmap='Blues',\n",
    "                xticklabels=['Loss', 'Win'],\n",
    "                yticklabels=['Loss', 'Win'])\n",
    "    plt.xlabel('Predicted')\n",
    "    plt.ylabel('Actual')\n",
    "    plt.title(f'Confusion Matrix (Accuracy: {accuracy:.4f})')\n",
    "    plt.savefig(os.path.join(folder_name, \"confusion_matrix.png\"))\n",
    "    plt.close()\n",
    "\n",
    "    # Calculate and save feature importance\n",
    "    importance = compute_feature_importance_simple(model, X_test_np)\n",
    "    feature_names = df.columns[:-1]\n",
    "\n",
    "    plt.figure(figsize=(12, 8))\n",
    "    importance_sorted_idx = np.argsort(importance)\n",
    "    plt.barh(range(len(importance)), importance[importance_sorted_idx])\n",
    "    plt.yticks(range(len(importance)), [feature_names[i] for i in importance_sorted_idx])\n",
    "    plt.title('Feature Importance')\n",
    "    plt.xlabel('Mean Absolute Difference in Predictions')\n",
    "    plt.tight_layout()\n",
    "    plt.savefig(os.path.join(folder_name, \"feature_importance.png\"))\n",
    "    plt.close()\n",
    "\n",
    "    # Copy notebook to the folder if it exists\n",
    "    try:\n",
    "        shutil.copy(\"neural_sketwork.ipynb\", os.path.join(folder_name, \"neural_sketwork.ipynb\"))\n",
    "    except:\n",
    "        pass\n",
    "\n",
    "    print(f\"Model and related information saved to folder: {folder_name}\")\n",
    "    return folder_name\n",
    "\n",
    "# Call the function after training\n",
    "save_folder = save_model_run(model, datapath, hidden_layers, input_size, num_epochs,\n",
    "                           train_loss_values, test_loss_values, epoch_count)"
   ],
   "id": "42f45238f0ee0a45",
   "outputs": [
    {
     "name": "stdout",
     "output_type": "stream",
     "text": [
      "Model and related information saved to folder: model_run_20250702_131905\n"
     ]
    }
   ],
   "execution_count": 31
  },
  {
   "metadata": {},
   "cell_type": "markdown",
   "source": "# Make Predictions",
   "id": "ba500e66575b6c98"
  },
  {
   "cell_type": "code",
   "id": "bf5e3f73-b8f1-45c0-bd81-77e1bf120d72",
   "metadata": {
    "ExecuteTime": {
     "end_time": "2025-07-02T11:28:39.844223500Z",
     "start_time": "2025-07-02T11:19:24.629769Z"
    }
   },
   "source": [
    "model.eval()\n",
    "with torch.inference_mode():\n",
    "\n",
    "    # Find our model's learned parameters\n",
    "    from pprint import pprint # pprint = pretty print, see: https://docs.python.org/3/library/pprint.html\n",
    "    print(\"The model learned the following values for weights and bias:\")\n",
    "    pprint(model.state_dict())\n",
    "    print(\"\\nAnd the original values for weights and bias are:\")\n",
    "    pprint(f\"weights: {layers[-2]}\")"
   ],
   "outputs": [
    {
     "name": "stdout",
     "output_type": "stream",
     "text": [
      "The model learned the following values for weights and bias:\n",
      "OrderedDict([('0.weight',\n",
      "              tensor([[ 5.2311e-02, -1.2480e-01,  5.0460e-02, -1.4590e-01,  1.1520e-01,\n",
      "          3.8162e-02, -2.6737e-01, -2.5314e-01, -4.8165e-02, -1.3124e-01,\n",
      "         -1.0279e-01, -8.4481e-02,  6.2597e-02,  2.3229e-02, -9.8489e-02,\n",
      "          1.9366e-01],\n",
      "        [-6.8840e-02,  1.9751e-01, -9.3407e-02,  8.9635e-03, -2.0357e-01,\n",
      "         -4.3062e-02, -9.9760e-02, -2.2346e-01, -2.6638e-01, -1.0179e-02,\n",
      "         -2.5294e-01,  2.2237e-01, -2.7378e-01, -1.8954e-02,  1.9989e-01,\n",
      "          3.0084e-01],\n",
      "        [-1.1107e-02,  1.1488e-01, -2.3923e-01, -2.0161e-01, -3.9635e-02,\n",
      "          1.5401e-01, -1.7752e-01,  2.8400e-01,  1.5561e-01,  1.5436e-01,\n",
      "          3.1851e-02, -1.0624e-01, -2.0001e-01, -2.2732e-01, -1.0371e-01,\n",
      "         -2.0704e-02],\n",
      "        [ 4.3702e-02,  3.4832e-02, -1.8123e-01,  2.4718e-01,  1.6215e-02,\n",
      "         -2.0850e-01, -2.3725e-01, -8.3822e-02, -8.7761e-02,  5.9679e-02,\n",
      "         -1.4963e-01, -8.7633e-02,  7.0540e-03,  2.6050e-01, -1.0381e-02,\n",
      "          7.6284e-02],\n",
      "        [ 6.9281e-02, -2.8250e-02, -1.1020e-01, -3.3365e-02, -1.8630e-01,\n",
      "         -2.8586e-01, -1.7367e-01, -2.4026e-01, -1.8848e-01, -5.1077e-02,\n",
      "         -1.8889e-01,  4.3505e-03, -7.6073e-02, -1.8128e-01,  5.7634e-03,\n",
      "          9.9516e-02],\n",
      "        [-2.6398e-01,  2.9348e-01,  1.2676e-01, -1.3826e-01, -1.6068e-01,\n",
      "          1.3922e-01,  5.0455e-02, -3.2343e-02, -5.7384e-03,  1.7278e-01,\n",
      "          1.9447e-01,  1.9919e-01,  1.6606e-01, -1.0395e-01, -2.0438e-01,\n",
      "         -1.8159e-01],\n",
      "        [-1.7658e-01,  2.1125e-01, -6.0464e-02, -4.9557e-02, -8.6331e-02,\n",
      "          1.4932e-01,  1.4873e-01,  1.2993e-02,  1.3689e-01,  1.2679e-01,\n",
      "          1.7881e-01,  1.4028e-01,  3.5376e-05, -1.6691e-01, -1.4705e-01,\n",
      "         -1.7323e-01],\n",
      "        [ 1.4448e-01, -2.3031e-01,  4.9163e-02, -2.6385e-01,  4.4628e-02,\n",
      "         -1.8898e-01,  2.4610e-01, -1.2967e-01,  2.0456e-01,  2.1712e-01,\n",
      "          6.0533e-02, -2.0105e-01, -1.2364e-01,  1.4604e-02,  2.1642e-01,\n",
      "         -1.7964e-01],\n",
      "        [-2.0424e-01, -1.6471e-02,  9.0630e-02, -7.4412e-02,  1.3136e-01,\n",
      "         -9.5802e-02,  1.1220e-01, -2.7000e-01,  1.1682e-01,  1.5283e-01,\n",
      "         -1.5857e-04, -1.6350e-01,  1.1264e-01, -1.0602e-01, -5.7623e-02,\n",
      "         -6.0314e-02],\n",
      "        [-4.7124e-02, -1.1518e-01,  7.0852e-02,  1.9560e-01,  1.0054e-01,\n",
      "         -3.9267e-02, -1.6920e-01, -4.1466e-02, -1.3607e-01,  1.9999e-01,\n",
      "         -8.5524e-02, -6.2786e-02, -5.1458e-02, -8.6544e-02, -2.5771e-01,\n",
      "          1.4700e-02],\n",
      "        [ 1.9947e-01, -1.1803e-02, -1.9676e-01, -1.4125e-01, -2.1562e-01,\n",
      "          2.1178e-01,  1.2896e-02, -7.8194e-02, -8.3819e-02,  1.6770e-01,\n",
      "          6.1993e-02,  4.2928e-02,  9.4817e-02, -1.1567e-01, -2.7518e-01,\n",
      "          1.2938e-01],\n",
      "        [-1.1065e-01,  1.5452e-01,  2.1451e-01, -8.9928e-02,  8.9663e-02,\n",
      "          1.0544e-01,  1.0570e-01,  1.6681e-02,  1.3668e-01, -1.0111e-01,\n",
      "         -1.5640e-01,  2.3320e-01, -8.7680e-03,  1.1594e-01,  1.4831e-01,\n",
      "          2.7920e-01],\n",
      "        [ 6.2037e-02,  1.4879e-01,  1.5804e-01, -1.0592e-01, -7.3789e-02,\n",
      "          2.0726e-02,  6.6286e-02, -1.5825e-01, -9.4229e-02,  7.9391e-03,\n",
      "          2.0202e-01, -3.4451e-02,  9.5352e-02,  1.1768e-01, -8.8283e-03,\n",
      "          1.7621e-01],\n",
      "        [ 3.9809e-02, -1.4716e-01, -8.9532e-02, -8.0703e-02, -1.1831e-01,\n",
      "         -1.6492e-01,  1.7132e-02,  1.7931e-01,  1.2726e-02,  5.9488e-02,\n",
      "          3.4410e-02,  8.6113e-02,  7.5881e-02, -7.3582e-02, -1.3859e-01,\n",
      "          2.3918e-01],\n",
      "        [ 2.6051e-01,  2.5903e-01, -1.3828e-01, -5.3561e-02, -1.4943e-01,\n",
      "         -5.1436e-02, -5.0107e-02,  9.5311e-02,  1.2570e-01,  1.5413e-01,\n",
      "          9.0339e-03,  1.2345e-01,  9.7944e-02, -5.5793e-02, -1.9389e-01,\n",
      "         -7.1508e-02],\n",
      "        [ 2.7814e-01, -8.2208e-02, -1.0018e-01, -1.5441e-01, -2.0792e-01,\n",
      "          7.3671e-02, -2.5054e-01,  1.7976e-01,  1.4425e-01,  2.0181e-01,\n",
      "         -2.4150e-02, -1.3404e-01, -2.9184e-01,  2.9992e-01, -1.5388e-01,\n",
      "         -1.9809e-02],\n",
      "        [-1.0410e-01, -5.9055e-02, -1.1395e-01,  4.1851e-02, -2.0643e-01,\n",
      "          1.1756e-01,  1.2082e-01, -4.2559e-02, -2.1772e-02,  1.9334e-01,\n",
      "         -1.1250e-02,  1.8730e-01, -5.2861e-02, -9.8295e-02,  4.2978e-03,\n",
      "         -1.9072e-01],\n",
      "        [ 2.0832e-01,  2.4199e-01,  2.0052e-01, -2.6916e-02, -2.3626e-01,\n",
      "         -5.5017e-02,  2.1554e-01,  1.8368e-01, -7.8305e-02,  5.1389e-02,\n",
      "         -1.4464e-01,  2.3931e-01,  1.1314e-01,  2.2920e-01,  1.1609e-01,\n",
      "          3.7807e-02],\n",
      "        [ 2.0670e-01, -1.5057e-02, -1.3775e-01, -8.6651e-02,  2.4659e-01,\n",
      "         -1.3263e-01, -1.9328e-01,  1.7499e-01,  1.6653e-01,  1.2487e-01,\n",
      "          5.7096e-02,  1.0062e-02, -5.4853e-02, -2.1468e-01,  1.0482e-01,\n",
      "         -1.4864e-01],\n",
      "        [ 2.8874e-02,  1.5645e-01,  1.3933e-01,  2.5034e-01,  2.5622e-02,\n",
      "         -2.2737e-01,  4.1290e-03,  3.1998e-02, -1.8372e-01, -1.3744e-01,\n",
      "         -5.4393e-03,  9.3492e-03,  8.0317e-02, -3.7013e-02,  1.0494e-01,\n",
      "         -1.1847e-01],\n",
      "        [-1.2054e-01, -2.3377e-01, -2.7762e-01, -2.5746e-01,  1.1452e-02,\n",
      "         -1.4059e-01,  1.2309e-01,  2.6478e-01,  2.4906e-01, -5.2538e-03,\n",
      "         -8.5564e-02, -3.0276e-01, -7.1671e-02, -1.4751e-01,  2.0985e-01,\n",
      "          1.2045e-01],\n",
      "        [-1.3792e-01,  1.7724e-01,  2.7822e-01,  2.6212e-01,  2.5546e-01,\n",
      "          1.7164e-01, -2.1581e-01, -9.5139e-02, -1.9455e-01, -5.9586e-02,\n",
      "         -7.1631e-02,  7.6616e-02, -2.1102e-01,  1.2350e-01,  2.2175e-01,\n",
      "         -1.4800e-01],\n",
      "        [ 1.6963e-01,  7.8305e-02, -2.7147e-02,  1.7765e-01, -2.8749e-02,\n",
      "         -3.4466e-02, -3.3772e-02, -1.0629e-01, -1.5309e-01, -9.6536e-02,\n",
      "         -1.8497e-02,  2.6533e-01, -2.1192e-01,  2.1541e-02,  8.6875e-02,\n",
      "          6.4838e-02],\n",
      "        [ 4.5401e-02,  9.6025e-02,  2.1126e-01,  2.5866e-01, -2.5697e-01,\n",
      "         -1.0490e-01, -2.7206e-01, -2.8227e-01, -1.1595e-01,  7.6401e-02,\n",
      "          4.6861e-02,  1.2810e-01, -3.1194e-01, -1.1137e-02, -1.0207e-01,\n",
      "          2.4647e-01],\n",
      "        [-2.8027e-02,  2.5297e-01,  1.6998e-01,  1.4517e-01, -3.3433e-02,\n",
      "          9.2849e-02,  1.1994e-01, -1.9557e-01, -2.1007e-01,  8.7016e-02,\n",
      "          3.7503e-02,  1.0521e-01,  4.7058e-02,  3.2501e-02,  8.2716e-02,\n",
      "          1.1044e-01],\n",
      "        [-2.0696e-02,  1.9118e-02,  5.1941e-02,  2.5162e-01, -1.3233e-01,\n",
      "          1.5816e-01,  1.0061e-01, -9.8055e-02, -2.7389e-01,  2.5728e-01,\n",
      "          1.0903e-01,  9.3926e-02,  1.7356e-01,  1.1490e-01,  3.4863e-02,\n",
      "          1.7228e-01],\n",
      "        [ 1.5915e-01, -7.6471e-02, -2.1668e-01, -5.7605e-02,  2.6413e-01,\n",
      "         -1.3890e-01,  1.3889e-01,  1.8548e-01, -9.0772e-02, -1.3620e-01,\n",
      "          1.5750e-01, -2.7356e-01, -4.3810e-02,  2.0395e-01,  3.4723e-02,\n",
      "          5.3255e-02],\n",
      "        [ 8.7296e-02,  1.1196e-03,  2.9622e-01,  2.9402e-01, -1.3169e-01,\n",
      "          4.9906e-02, -6.1056e-02, -1.9001e-01, -1.3697e-01, -1.9716e-01,\n",
      "          1.3809e-01,  1.7147e-01, -7.5457e-02,  9.3859e-02, -1.8726e-01,\n",
      "          1.6177e-02],\n",
      "        [-1.2714e-01, -1.9473e-01,  2.3497e-01, -1.3236e-01,  1.4915e-01,\n",
      "          1.5316e-01, -1.3866e-01, -4.0095e-02,  3.2133e-02, -1.5573e-01,\n",
      "         -6.1554e-02, -1.5910e-01, -1.8140e-01,  2.0867e-01,  1.5816e-01,\n",
      "         -1.0322e-01],\n",
      "        [ 1.4711e-01,  5.2174e-02,  2.3426e-02, -1.9629e-01, -2.4444e-01,\n",
      "          1.8189e-02, -8.0877e-02, -1.1579e-01, -1.5515e-01,  4.6902e-02,\n",
      "         -2.5369e-01, -4.8979e-02, -2.8163e-01,  2.2461e-01,  1.4661e-02,\n",
      "          2.7543e-01],\n",
      "        [ 1.1220e-01, -2.3263e-02, -1.7305e-01, -1.8911e-01, -1.0977e-01,\n",
      "          8.7284e-02,  1.3048e-01,  1.8752e-01,  1.6850e-01, -1.7617e-01,\n",
      "         -2.4995e-01,  1.6358e-01,  8.8980e-03,  1.7616e-01, -2.3346e-01,\n",
      "         -2.4663e-02],\n",
      "        [ 3.6794e-02,  2.2209e-01,  5.4886e-03,  1.0984e-01, -7.5295e-02,\n",
      "          1.5627e-01,  2.1963e-02, -2.5235e-01,  1.6682e-01,  2.1859e-01,\n",
      "          9.2588e-02,  2.9135e-01, -2.6769e-01,  1.7233e-01, -3.8360e-02,\n",
      "         -1.4559e-01],\n",
      "        [ 8.2633e-02, -1.6403e-01, -7.2835e-02,  1.5728e-01,  5.8573e-02,\n",
      "          1.1452e-02,  1.6121e-01, -1.4532e-01, -1.4663e-01,  2.5477e-01,\n",
      "         -1.6695e-01,  1.5385e-01, -2.0646e-01, -3.4880e-02, -8.5763e-02,\n",
      "          2.0776e-01],\n",
      "        [ 6.3045e-02, -9.3671e-02,  2.6943e-02,  1.1309e-01, -7.3777e-02,\n",
      "          9.0110e-02,  2.4748e-01,  2.0528e-01,  9.5851e-02, -1.2176e-01,\n",
      "          2.1365e-01, -5.0850e-02, -7.7150e-02,  4.6040e-03, -1.9425e-01,\n",
      "         -4.4163e-02],\n",
      "        [ 4.9547e-02,  3.3338e-02, -7.2310e-02, -1.3863e-01, -1.7027e-01,\n",
      "         -3.0273e-01,  1.0118e-01, -1.0464e-01, -1.9343e-01, -8.5715e-03,\n",
      "          1.4162e-01,  1.7696e-01, -2.9670e-02,  1.9909e-01,  2.2814e-02,\n",
      "          2.5430e-01],\n",
      "        [-1.4998e-01,  3.0707e-02,  1.6708e-01,  1.1526e-01,  1.3420e-01,\n",
      "          1.7359e-01,  1.7787e-01, -2.2541e-01, -4.1135e-02,  1.6386e-02,\n",
      "          8.4532e-03, -9.4225e-02,  1.8989e-01,  1.0437e-01, -1.6576e-01,\n",
      "          1.5231e-01],\n",
      "        [ 1.6734e-01,  5.5108e-02,  2.2080e-01, -8.5673e-02, -1.5740e-01,\n",
      "         -2.6980e-01,  2.0810e-03, -1.7278e-01,  1.1476e-01,  8.4654e-02,\n",
      "         -7.4553e-02,  3.0047e-01, -7.0698e-02,  3.0051e-01, -6.2448e-02,\n",
      "          2.5490e-01],\n",
      "        [ 1.3554e-01,  2.3415e-01,  4.6262e-02,  1.0447e-01,  2.4039e-02,\n",
      "         -2.8401e-01, -1.4157e-01,  1.7103e-01,  8.1620e-02,  1.5136e-01,\n",
      "          1.0718e-01, -8.5515e-02, -3.0094e-01, -3.5754e-02, -1.9024e-01,\n",
      "          1.8152e-01],\n",
      "        [ 6.8727e-02,  2.6258e-01, -2.8280e-02,  2.1173e-01, -1.0398e-01,\n",
      "         -1.3977e-01,  5.7491e-02, -1.2224e-01, -1.9955e-01, -5.3892e-02,\n",
      "          1.6341e-01,  9.7201e-02, -2.3779e-01, -5.0360e-02,  1.7745e-01,\n",
      "          9.9387e-02],\n",
      "        [ 4.6595e-02, -1.9022e-01, -2.1943e-01, -8.6516e-02,  2.3529e-01,\n",
      "          2.3426e-01,  2.0942e-01,  2.3309e-01, -1.5561e-01,  3.8739e-02,\n",
      "         -4.9621e-02, -6.0344e-02, -4.9621e-02, -1.5055e-01,  1.3110e-01,\n",
      "          3.3467e-02]])),\n",
      "             ('0.bias',\n",
      "              tensor([-0.1025,  0.1536, -0.2346,  0.0590,  0.0622, -0.1979,  0.0502, -0.0493,\n",
      "         0.1478,  0.0592,  0.0574,  0.1239,  0.1122, -0.0227, -0.1986, -0.1650,\n",
      "         0.0942, -0.1531,  0.2086,  0.2064, -0.0487,  0.1811,  0.1523, -0.0826,\n",
      "         0.0751,  0.1781, -0.1727,  0.1537,  0.2568,  0.0566,  0.0705, -0.0645,\n",
      "         0.0885, -0.1976, -0.0242, -0.0929,  0.0121,  0.2060,  0.0957,  0.2231])),\n",
      "             ('2.weight',\n",
      "              tensor([[-0.1196,  0.0207,  0.1138,  ...,  0.1149,  0.0305,  0.0171],\n",
      "        [ 0.1053, -0.0106,  0.0718,  ..., -0.1658, -0.0073, -0.1015],\n",
      "        [-0.1396, -0.0417, -0.1186,  ...,  0.0614, -0.1394, -0.1073],\n",
      "        ...,\n",
      "        [-0.0630,  0.0112,  0.0395,  ..., -0.1146,  0.1425, -0.1550],\n",
      "        [ 0.1170,  0.0534,  0.0338,  ...,  0.1506,  0.1526, -0.0693],\n",
      "        [-0.0273, -0.1318,  0.0650,  ...,  0.0568,  0.0181, -0.1144]])),\n",
      "             ('2.bias',\n",
      "              tensor([-0.1127, -0.0398,  0.1137, -0.0244, -0.0955, -0.0943,  0.0213, -0.0308,\n",
      "        -0.0877, -0.0049,  0.0189,  0.0036,  0.1105,  0.1068,  0.1236,  0.1061,\n",
      "        -0.0084,  0.0097, -0.0932, -0.1397,  0.0625,  0.0597, -0.0102, -0.0569,\n",
      "         0.1107, -0.1318,  0.1400,  0.0554,  0.0013,  0.0579])),\n",
      "             ('4.weight',\n",
      "              tensor([[-4.1237e-02, -8.0467e-02, -1.0092e-02,  4.6826e-02,  1.1425e-01,\n",
      "          1.5539e-01,  6.5106e-03,  9.8349e-02,  6.6415e-02, -4.3053e-02,\n",
      "         -6.4098e-02,  1.4528e-01,  1.6923e-01,  1.2845e-01, -2.8695e-02,\n",
      "         -1.4381e-03,  1.2181e-02, -1.0215e-01, -1.6631e-01,  1.7031e-01,\n",
      "          1.8759e-02, -1.2763e-01,  1.0618e-01,  1.0446e-01, -1.2326e-01,\n",
      "          1.7971e-01, -1.2767e-01,  5.0275e-03,  3.3402e-02, -1.8662e-03],\n",
      "        [-3.1978e-04,  6.2801e-04,  1.4766e-01, -3.9358e-02, -5.0566e-02,\n",
      "          1.4726e-02,  9.8515e-02,  9.3096e-02, -1.3928e-01,  1.5918e-01,\n",
      "          5.1477e-02,  5.2185e-02, -1.3877e-01, -4.0103e-02, -6.6462e-03,\n",
      "         -6.3285e-02,  8.5028e-02, -1.0035e-01, -2.7159e-02,  1.2019e-01,\n",
      "          8.9351e-03, -1.3074e-01, -4.8036e-02, -1.6123e-01, -7.0607e-02,\n",
      "          7.8277e-02, -6.5256e-02,  5.0928e-02, -1.6736e-01, -7.5244e-02],\n",
      "        [ 1.1274e-01,  1.3962e-02, -8.4393e-02,  1.4745e-01, -7.1367e-02,\n",
      "          4.8108e-02,  1.5123e-01,  6.4118e-03,  3.2642e-02,  4.4660e-02,\n",
      "          1.5870e-03,  1.0193e-01, -2.9952e-02,  1.3518e-01, -1.2905e-01,\n",
      "          9.6440e-04,  1.6964e-01,  1.0005e-01,  1.5242e-01, -1.4600e-01,\n",
      "         -1.7400e-01, -5.3904e-03,  1.5004e-01,  1.8244e-01,  1.3851e-01,\n",
      "          6.9902e-02, -4.6873e-02,  1.6563e-01,  3.2710e-02, -1.0668e-02],\n",
      "        [-7.4206e-02,  1.0329e-01, -7.8659e-02, -7.9703e-02, -9.4061e-03,\n",
      "          6.9672e-02, -3.6155e-02,  5.9799e-02,  1.3315e-01, -1.5274e-01,\n",
      "         -7.8910e-03,  1.0295e-02, -6.6958e-02, -1.8207e-01,  7.7335e-02,\n",
      "          1.6238e-01,  7.0886e-02, -9.7193e-02,  8.5805e-02,  3.0131e-02,\n",
      "         -1.1155e-02, -1.3342e-01, -1.4895e-01, -6.3387e-02, -6.6584e-02,\n",
      "         -1.0103e-01, -9.0906e-02, -1.5531e-01,  7.5842e-02,  4.5671e-02],\n",
      "        [ 1.0101e-03, -1.1318e-01,  1.2825e-01,  5.2389e-02, -1.8632e-01,\n",
      "         -6.2312e-02, -1.2553e-02,  1.0610e-01,  1.6000e-01,  3.8403e-02,\n",
      "         -3.1517e-02, -5.4533e-03,  1.1094e-01,  8.2234e-02,  1.3333e-01,\n",
      "         -1.0134e-01, -2.7524e-02,  1.4053e-01,  1.4473e-01,  1.5270e-01,\n",
      "         -1.3357e-01,  3.6127e-02, -7.0096e-02,  9.8720e-02,  5.1519e-02,\n",
      "         -1.7564e-01, -5.8388e-02, -1.3053e-01,  1.1024e-01, -1.7612e-02],\n",
      "        [ 2.2589e-02,  4.7629e-02,  5.0651e-02,  1.5804e-01, -1.3420e-01,\n",
      "          1.9151e-02,  6.3548e-02,  6.1819e-02,  1.3078e-01, -4.9752e-02,\n",
      "         -7.3562e-03, -1.3909e-02, -1.3846e-01, -1.5972e-01, -7.2291e-02,\n",
      "         -1.5469e-01,  6.0265e-02,  9.0048e-05, -1.7668e-01,  5.5884e-02,\n",
      "          8.0104e-02, -1.5356e-01,  8.2360e-02,  1.2563e-01, -3.1793e-03,\n",
      "         -1.8220e-01,  1.4084e-01, -1.4645e-01, -1.4841e-01, -1.2896e-01],\n",
      "        [-9.5855e-02, -3.5727e-02,  8.9312e-02, -5.5227e-02, -1.5782e-01,\n",
      "          6.1557e-02, -1.3102e-01, -1.6034e-01,  7.7310e-02,  1.1409e-01,\n",
      "          6.7870e-02, -1.6980e-01, -1.9019e-02,  7.8771e-02,  1.6088e-02,\n",
      "          1.4945e-01,  3.0511e-02,  4.1763e-02, -7.8446e-02, -6.0896e-02,\n",
      "         -4.5452e-02,  9.3888e-03, -1.5400e-01, -6.4333e-02, -6.2866e-02,\n",
      "          6.2137e-02,  5.3803e-02, -1.2769e-01,  1.3611e-01, -6.9183e-02],\n",
      "        [-7.8115e-02,  9.9145e-02,  1.2280e-01,  9.6614e-02,  1.6070e-01,\n",
      "         -4.5974e-02,  4.8450e-02,  1.3656e-01, -3.9714e-02,  8.1670e-04,\n",
      "         -1.1594e-01, -8.8115e-02, -1.2614e-01,  6.7839e-02, -1.5024e-01,\n",
      "         -1.1335e-01, -1.1815e-01,  8.9836e-02, -2.0257e-02, -4.7734e-02,\n",
      "          1.6469e-01,  5.0800e-02,  7.6902e-04, -1.5037e-01, -8.8118e-02,\n",
      "         -1.0885e-01, -5.5791e-02, -1.0876e-01,  7.2528e-03,  1.4261e-01],\n",
      "        [-1.5734e-01, -1.3981e-01, -1.7298e-01,  1.9003e-01,  3.6886e-03,\n",
      "         -3.1262e-02,  1.0035e-01, -1.5308e-01,  6.0124e-02, -5.2207e-02,\n",
      "          6.7303e-02, -3.7997e-02,  1.6890e-01,  7.9288e-02,  1.2400e-01,\n",
      "          1.7806e-01,  7.9452e-02,  1.0808e-01,  1.2194e-01,  1.4802e-01,\n",
      "         -5.5616e-02, -1.3722e-02,  6.7204e-02, -6.2890e-02,  6.9794e-02,\n",
      "         -8.9861e-02,  1.3569e-01,  1.2603e-02,  1.3149e-01, -1.3035e-01],\n",
      "        [ 9.2637e-02, -1.5080e-01, -6.5990e-02, -6.0003e-02, -1.5741e-01,\n",
      "         -6.0309e-02,  4.0066e-02, -3.6583e-02,  1.0679e-01, -2.7434e-02,\n",
      "          9.1277e-02, -1.2941e-01,  1.6835e-01,  2.5767e-02,  1.2197e-01,\n",
      "          1.2078e-01, -1.2709e-01,  1.4867e-01, -2.7186e-02,  1.7963e-01,\n",
      "          1.8429e-01, -6.2058e-02, -2.0321e-02,  3.4351e-02, -1.3786e-01,\n",
      "          1.1153e-01, -9.3101e-03,  2.3506e-02,  5.3164e-02,  1.4485e-01],\n",
      "        [ 6.6427e-02,  2.9954e-02, -1.5275e-01, -2.8640e-02,  7.9342e-02,\n",
      "         -9.5251e-02, -5.4439e-02,  5.9498e-02, -1.5079e-01, -8.9152e-02,\n",
      "          2.6008e-02,  1.5409e-01, -1.6161e-01,  3.1099e-02,  2.1577e-03,\n",
      "          1.8224e-01, -7.1447e-02, -1.2728e-02,  3.3719e-02, -7.1483e-02,\n",
      "          1.7566e-01,  1.0248e-01,  1.5377e-01,  1.1839e-01, -1.3533e-02,\n",
      "          1.7413e-01,  1.1672e-01, -4.0697e-02, -2.3384e-02,  1.0644e-01],\n",
      "        [ 1.4707e-01, -4.2961e-03, -1.3629e-01, -9.3225e-02,  6.1404e-02,\n",
      "         -2.1746e-04, -6.9521e-02, -6.8605e-03, -9.8254e-02, -9.3487e-02,\n",
      "          2.4342e-02,  1.6625e-01,  6.2104e-02, -1.4824e-01,  1.2191e-01,\n",
      "         -1.8351e-01,  1.3053e-01, -1.5847e-01,  1.3565e-01, -8.6755e-02,\n",
      "          1.3773e-01, -8.4390e-02,  1.3770e-01, -6.9371e-02,  1.7055e-01,\n",
      "          1.0647e-01,  5.2793e-02,  1.3279e-01,  9.7880e-02,  1.7177e-01],\n",
      "        [-2.3363e-02,  1.0597e-01,  1.8290e-01,  1.8936e-01, -3.3518e-03,\n",
      "          8.6180e-02, -1.6524e-01, -1.6651e-01,  1.2750e-01,  3.6806e-02,\n",
      "          1.5933e-01,  1.4100e-01,  1.1202e-01, -3.3544e-02,  1.1318e-01,\n",
      "          2.4067e-02,  7.4203e-03, -1.2917e-01, -3.9016e-02,  1.5115e-01,\n",
      "         -4.2574e-02, -1.2284e-01, -3.9571e-02, -6.2928e-02, -1.2340e-01,\n",
      "          1.1061e-01,  2.7026e-03,  3.5546e-03, -7.1625e-02,  1.7956e-01],\n",
      "        [-1.3031e-02,  1.5353e-01,  1.0952e-01, -8.8183e-02, -1.5913e-01,\n",
      "         -3.4265e-02,  8.0160e-02,  1.6648e-01,  5.0266e-02, -1.2403e-01,\n",
      "          8.4232e-02, -3.0896e-02,  4.9975e-02, -9.3824e-02, -1.6999e-03,\n",
      "          9.8669e-02,  1.6147e-01,  6.8774e-02,  1.3854e-01,  2.8070e-03,\n",
      "         -1.1132e-01, -1.8748e-01,  1.3515e-01, -3.4534e-02,  8.3924e-02,\n",
      "          1.1758e-01,  2.5689e-02,  4.8941e-02,  1.9606e-02, -1.0837e-02],\n",
      "        [ 1.4888e-01,  8.9329e-02,  2.3075e-03, -1.5337e-01,  2.9455e-02,\n",
      "          9.8906e-02,  1.1012e-01,  1.3898e-02,  2.8764e-02, -1.0088e-01,\n",
      "          1.1351e-01,  3.6667e-02,  1.4646e-01,  3.8379e-02, -1.3905e-01,\n",
      "          1.2967e-01,  2.1036e-02,  2.1794e-02, -7.8185e-03,  1.4582e-01,\n",
      "          7.5065e-02,  1.3596e-01,  8.2898e-02, -1.6825e-01,  1.3283e-01,\n",
      "          8.0479e-02, -8.6767e-03,  1.0764e-01, -1.5215e-01,  4.2511e-02],\n",
      "        [-1.6816e-01,  1.0887e-01,  6.6223e-02, -2.1279e-02, -9.8917e-04,\n",
      "          1.6039e-01, -4.0904e-02, -1.7129e-02,  1.4035e-01, -1.7817e-02,\n",
      "         -3.4225e-02, -1.8752e-02,  2.2506e-02, -1.3103e-01,  4.2423e-02,\n",
      "         -1.4168e-01,  1.4546e-01, -1.1526e-01,  1.6209e-01,  1.2968e-01,\n",
      "          1.0163e-01,  3.2509e-02, -4.9072e-02, -1.1616e-01, -5.3050e-02,\n",
      "         -6.3994e-02, -5.6756e-02,  1.9254e-01, -1.4852e-01,  1.5995e-02],\n",
      "        [ 9.6391e-02, -1.1724e-01,  1.6694e-01, -6.7526e-02, -1.5212e-01,\n",
      "         -5.3954e-02, -1.3780e-02, -6.4135e-02, -2.6330e-02, -9.6532e-02,\n",
      "         -1.1312e-01, -1.1044e-01,  1.1786e-01,  8.2499e-02,  1.4085e-03,\n",
      "         -6.1725e-02, -1.2465e-01,  1.3752e-01, -1.3488e-01,  3.5386e-02,\n",
      "          8.3480e-02, -3.6802e-02,  1.8419e-01, -1.4511e-01,  1.8475e-01,\n",
      "          8.2827e-02,  1.6358e-01,  1.3890e-01,  1.0999e-01, -1.5529e-01],\n",
      "        [ 3.0634e-02, -4.9666e-02, -6.5575e-03, -1.2466e-02,  1.1193e-02,\n",
      "          3.3902e-03,  3.6534e-02, -2.0018e-02, -7.1979e-02, -1.2875e-01,\n",
      "         -4.6773e-02,  6.6938e-02,  4.1907e-02, -1.1808e-01,  6.3581e-02,\n",
      "         -4.6092e-02,  1.1091e-01,  4.2492e-02,  6.1008e-02, -1.6662e-01,\n",
      "         -2.1436e-02, -1.6138e-02, -1.5675e-01,  2.5826e-02, -1.2671e-01,\n",
      "         -4.1955e-02,  9.6565e-02, -1.7946e-01, -4.5063e-03,  4.3252e-02],\n",
      "        [ 4.9761e-02, -9.3352e-02, -1.2706e-01,  9.3264e-02, -1.1289e-01,\n",
      "         -6.5267e-02, -1.2330e-01,  1.4342e-02, -1.0760e-01, -3.4903e-02,\n",
      "         -1.5105e-01,  1.4772e-01, -1.3987e-01,  8.5748e-02,  1.0134e-01,\n",
      "          7.3910e-02,  1.3009e-01, -2.6437e-02,  1.6006e-01,  6.4483e-02,\n",
      "         -6.4557e-02,  1.4645e-01, -1.2294e-01,  2.9027e-02, -6.8509e-02,\n",
      "         -4.8687e-02,  1.6367e-01,  1.3815e-01, -1.2315e-01,  1.0239e-01],\n",
      "        [-9.1186e-02,  6.2553e-02, -9.1709e-02,  4.7508e-03,  1.0139e-01,\n",
      "          5.0927e-02,  1.2617e-01, -1.3203e-01,  8.8131e-02, -1.1073e-01,\n",
      "         -8.6919e-02, -9.8803e-02,  9.1998e-02, -1.0918e-01, -1.1107e-01,\n",
      "         -5.3173e-02,  9.7839e-02,  6.1299e-03,  1.6826e-01, -1.1560e-01,\n",
      "          9.6374e-02, -7.2256e-02, -1.4797e-01,  7.4148e-02, -9.0328e-02,\n",
      "          1.6981e-01,  1.2588e-01,  7.2355e-02, -1.8905e-01, -6.9341e-02]])),\n",
      "             ('4.bias',\n",
      "              tensor([-0.1215,  0.0855,  0.1559, -0.1205, -0.0111, -0.1322,  0.0489,  0.1650,\n",
      "        -0.0427,  0.0178,  0.1792, -0.0862, -0.0191, -0.0620,  0.0715,  0.0849,\n",
      "         0.0828, -0.1680,  0.0102,  0.1379])),\n",
      "             ('6.weight',\n",
      "              tensor([[ 0.0932, -0.0503,  0.1328, -0.2088, -0.1958, -0.0413, -0.0381,  0.0467,\n",
      "          0.2228,  0.0096,  0.1984, -0.0822,  0.0749, -0.1045,  0.0688,  0.0265,\n",
      "          0.2169, -0.0825, -0.0797, -0.1203]])),\n",
      "             ('6.bias', tensor([-0.2129]))])\n",
      "\n",
      "And the original values for weights and bias are:\n",
      "'weights: Linear(in_features=20, out_features=1, bias=True)'\n"
     ]
    }
   ],
   "execution_count": 32
  },
  {
   "metadata": {},
   "cell_type": "markdown",
   "source": "# Plot Predictions",
   "id": "1dd0efe8f7b809f1"
  },
  {
   "metadata": {
    "ExecuteTime": {
     "end_time": "2025-07-02T11:28:39.844223500Z",
     "start_time": "2025-07-02T11:19:24.710703Z"
    }
   },
   "cell_type": "code",
   "source": [
    "# Plot the loss curves\n",
    "print(\"Large preprocessed dataset, scaled\")\n",
    "plt.plot(epoch_count, train_loss_values, label=\"Train loss\")\n",
    "plt.plot(epoch_count, test_loss_values, label=\"Test loss\")\n",
    "plt.title(\"Training and test loss curves\")\n",
    "plt.ylabel(\"Loss\")\n",
    "plt.xlabel(\"Epochs\")\n",
    "plt.legend();"
   ],
   "id": "69bb04d4b439a42f",
   "outputs": [
    {
     "name": "stdout",
     "output_type": "stream",
     "text": [
      "Large preprocessed dataset, scaled\n"
     ]
    },
    {
     "data": {
      "text/plain": [
       "<Figure size 640x480 with 1 Axes>"
      ],
      "image/png": "[encoded data removed]"
     },
     "metadata": {},
     "output_type": "display_data"
    }
   ],
   "execution_count": 33
  },
  {
   "metadata": {
    "ExecuteTime": {
     "end_time": "2025-07-02T11:28:39.844223500Z",
     "start_time": "2025-07-02T11:19:24.921953Z"
    }
   },
   "cell_type": "code",
   "source": "# train_loss_values, test_loss_values, epoch_count",
   "id": "e6c26015db749462",
   "outputs": [],
   "execution_count": 34
  },
  {
   "metadata": {
    "ExecuteTime": {
     "end_time": "2025-07-02T11:28:39.844223500Z",
     "start_time": "2025-07-02T11:19:24.955831Z"
    }
   },
   "cell_type": "code",
   "source": [
    "# Simpler feature importance method that works well with neural networks\n",
    "def compute_feature_importance_simple(model, X, n_repeats=5):\n",
    "    \"\"\"Calculate feature importance by measuring impact of shuffling each feature\"\"\"\n",
    "    importance = np.zeros(X.shape[1])\n",
    "    model.eval()\n",
    "\n",
    "    # Get baseline prediction\n",
    "    X_tensor = torch.tensor(X).float()\n",
    "    with torch.no_grad():\n",
    "        baseline_preds = model(X_tensor).flatten().numpy()\n",
    "\n",
    "    # For each feature\n",
    "    for i in range(X.shape[1]):\n",
    "        feature_importance = 0\n",
    "\n",
    "        # Repeat the process multiple times\n",
    "        for _ in range(n_repeats):\n",
    "            # Create a copy of X with the feature shuffled\n",
    "            X_permuted = X.copy()\n",
    "            np.random.shuffle(X_permuted[:, i])\n",
    "\n",
    "            # Get predictions with shuffled feature\n",
    "            X_permuted_tensor = torch.tensor(X_permuted).float()\n",
    "            with torch.no_grad():\n",
    "                permuted_preds = model(X_permuted_tensor).flatten().numpy()\n",
    "\n",
    "            # Calculate importance as the decrease in performance\n",
    "            feature_importance += np.mean(np.abs(baseline_preds - permuted_preds))\n",
    "\n",
    "        importance[i] = feature_importance / n_repeats\n",
    "\n",
    "    return importance\n",
    "\n",
    "# Calculate feature importance\n",
    "importance = compute_feature_importance_simple(model, X_test_np)\n",
    "\n",
    "# Get feature names from dataframe\n",
    "feature_names = df.columns[:-1]  # Exclude the target column\n",
    "\n",
    "# Plot feature importance\n",
    "plt.figure(figsize=(12, 8))\n",
    "importance_sorted_idx = np.argsort(importance)\n",
    "plt.barh(range(len(importance)), importance[importance_sorted_idx])\n",
    "plt.yticks(range(len(importance)), [feature_names[i] for i in importance_sorted_idx])\n",
    "plt.title('Feature Importance')\n",
    "plt.xlabel('Mean Absolute Difference in Predictions')\n",
    "plt.tight_layout()\n",
    "plt.show()"
   ],
   "id": "8cbde28603ff88d4",
   "outputs": [
    {
     "data": {
      "text/plain": [
       "<Figure size 1200x800 with 1 Axes>"
      ],
      "image/png": "[encoded data removed]"
     },
     "metadata": {},
     "output_type": "display_data"
    }
   ],
   "execution_count": 35
  },
  {
   "metadata": {
    "ExecuteTime": {
     "end_time": "2025-07-02T11:28:39.844223500Z",
     "start_time": "2025-07-02T11:19:41.772634Z"
    }
   },
   "cell_type": "code",
   "source": [
    "# Create confusion matrix\n",
    "from sklearn.metrics import confusion_matrix\n",
    "import matplotlib.pyplot as plt\n",
    "import seaborn as sns\n",
    "\n",
    "def plot_confusion_matrix(model, X_test, Y_test, threshold=0.5):\n",
    "    # Get predictions from the model\n",
    "    model.eval()\n",
    "    with torch.no_grad():\n",
    "        Y_test_pred = model(X_test).flatten()\n",
    "        # Convert probabilities to binary predictions using threshold\n",
    "        predicted_classes = (Y_test_pred >= threshold).float()\n",
    "\n",
    "    # Convert tensors to numpy for sklearn\n",
    "    y_true = Y_test.numpy()\n",
    "    y_pred = predicted_classes.numpy()\n",
    "\n",
    "    # Create confusion matrix\n",
    "    cm = confusion_matrix(y_true, y_pred)\n",
    "\n",
    "    # Plot confusion matrix with seaborn\n",
    "    plt.figure(figsize=(8, 6))\n",
    "    sns.heatmap(cm, annot=True, fmt='d', cmap='Blues',\n",
    "                xticklabels=['Loss', 'Win'],\n",
    "                yticklabels=['Loss', 'Win'])\n",
    "    plt.xlabel('Predicted')\n",
    "    plt.ylabel('Actual')\n",
    "    plt.title('Confusion Matrix')\n",
    "\n",
    "    # Calculate and display accuracy\n",
    "    accuracy = (cm[0,0] + cm[1,1]) / np.sum(cm)\n",
    "    plt.figtext(0.5, 0.01, f'Accuracy: {accuracy:.4f}', ha='center')\n",
    "\n",
    "    plt.tight_layout()\n",
    "    plt.show()\n",
    "\n",
    "# Call the function with your model\n",
    "plot_confusion_matrix(model, X_test, Y_test)"
   ],
   "id": "73901840180a8186",
   "outputs": [
    {
     "data": {
      "text/plain": [
       "<Figure size 800x600 with 2 Axes>"
      ],
      "image/png": "[encoded data removed]"
     },
     "metadata": {},
     "output_type": "display_data"
    }
   ],
   "execution_count": 36
  }
 ],
 "metadata": {
  "kernelspec": {
   "display_name": "Python 3 (ipykernel)",
   "language": "python",
   "name": "python3"
  },
  "language_info": {
   "codemirror_mode": {
    "name": "ipython",
    "version": 3
   },
   "file_extension": ".py",
   "mimetype": "text/x-python",
   "name": "python",
   "nbconvert_exporter": "python",
   "pygments_lexer": "ipython3",
   "version": "3.11.12"
  }
 },
 "nbformat": 4,
 "nbformat_minor": 5
}
